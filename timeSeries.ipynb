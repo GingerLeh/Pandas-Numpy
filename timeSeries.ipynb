{
 "cells": [
  {
   "cell_type": "code",
   "execution_count": 27,
   "metadata": {},
   "outputs": [],
   "source": [
    "import yfinance as yf\n",
    "import pandas as pd\n",
    "import quandl \n",
    "import numpy as np\n",
    "import matplotlib.pyplot as plt"
   ]
  },
  {
   "cell_type": "code",
   "execution_count": 2,
   "metadata": {},
   "outputs": [
    {
     "data": {
      "text/plain": [
       "DatetimeIndex(['2000-01-31', '2000-02-29', '2000-03-31', '2000-04-30',\n",
       "               '2000-05-31', '2000-06-30', '2000-07-31', '2000-08-31',\n",
       "               '2000-09-30', '2000-10-31', '2000-11-30', '2000-12-31',\n",
       "               '2001-01-31', '2001-02-28', '2001-03-31', '2001-04-30',\n",
       "               '2001-05-31', '2001-06-30', '2001-07-31', '2001-08-31',\n",
       "               '2001-09-30', '2001-10-31', '2001-11-30', '2001-12-31',\n",
       "               '2002-01-31', '2002-02-28', '2002-03-31', '2002-04-30',\n",
       "               '2002-05-31', '2002-06-30', '2002-07-31', '2002-08-31',\n",
       "               '2002-09-30', '2002-10-31', '2002-11-30', '2002-12-31',\n",
       "               '2003-01-31', '2003-02-28', '2003-03-31', '2003-04-30',\n",
       "               '2003-05-31', '2003-06-30', '2003-07-31', '2003-08-31',\n",
       "               '2003-09-30', '2003-10-31', '2003-11-30', '2003-12-31',\n",
       "               '2004-01-31', '2004-02-29', '2004-03-31', '2004-04-30',\n",
       "               '2004-05-31', '2004-06-30', '2004-07-31', '2004-08-31',\n",
       "               '2004-09-30', '2004-10-31', '2004-11-30', '2004-12-31'],\n",
       "              dtype='datetime64[ns]', freq='M')"
      ]
     },
     "execution_count": 2,
     "metadata": {},
     "output_type": "execute_result"
    }
   ],
   "source": [
    "pd.date_range(start= '2000-1-1',periods= 60, freq='m')\n"
   ]
  },
  {
   "cell_type": "code",
   "execution_count": 3,
   "metadata": {},
   "outputs": [
    {
     "data": {
      "text/plain": [
       "DatetimeIndex(['1980-12-31', '1981-12-31', '1982-12-31', '1983-12-31',\n",
       "               '1984-12-31', '1985-12-31', '1986-12-31', '1987-12-31',\n",
       "               '1988-12-31', '1989-12-31', '1990-12-31', '1991-12-31',\n",
       "               '1992-12-31', '1993-12-31', '1994-12-31', '1995-12-31',\n",
       "               '1996-12-31', '1997-12-31', '1998-12-31', '1999-12-31'],\n",
       "              dtype='datetime64[ns]', freq='A-DEC')"
      ]
     },
     "execution_count": 3,
     "metadata": {},
     "output_type": "execute_result"
    }
   ],
   "source": [
    "pd.date_range(start= '1980-1-1',periods= 20, freq='Y')\n"
   ]
  },
  {
   "cell_type": "code",
   "execution_count": 4,
   "metadata": {},
   "outputs": [
    {
     "data": {
      "text/plain": [
       "DatetimeIndex(['1980-12-31', '1981-12-31', '1982-12-31', '1983-12-31',\n",
       "               '1984-12-31', '1985-12-31', '1986-12-31', '1987-12-31',\n",
       "               '1988-12-31', '1989-12-31', '1990-12-31', '1991-12-31',\n",
       "               '1992-12-31', '1993-12-31', '1994-12-31', '1995-12-31',\n",
       "               '1996-12-31', '1997-12-31', '1998-12-31', '1999-12-31',\n",
       "               '2000-12-31', '2001-12-31', '2002-12-31', '2003-12-31',\n",
       "               '2004-12-31', '2005-12-31', '2006-12-31', '2007-12-31',\n",
       "               '2008-12-31', '2009-12-31', '2010-12-31', '2011-12-31',\n",
       "               '2012-12-31', '2013-12-31', '2014-12-31', '2015-12-31',\n",
       "               '2016-12-31', '2017-12-31', '2018-12-31', '2019-12-31',\n",
       "               '2020-12-31', '2021-12-31'],\n",
       "              dtype='datetime64[ns]', freq='A-DEC')"
      ]
     },
     "execution_count": 4,
     "metadata": {},
     "output_type": "execute_result"
    }
   ],
   "source": [
    "pd.date_range(start = '1980-1-1', end = ' 2022-1-1', freq= 'Y')"
   ]
  },
  {
   "cell_type": "code",
   "execution_count": 5,
   "metadata": {},
   "outputs": [
    {
     "data": {
      "text/plain": [
       "DatetimeIndex(['2022-03-18 00:00:00', '2022-03-18 01:00:00',\n",
       "               '2022-03-18 02:00:00', '2022-03-18 03:00:00',\n",
       "               '2022-03-18 04:00:00', '2022-03-18 05:00:00',\n",
       "               '2022-03-18 06:00:00', '2022-03-18 07:00:00',\n",
       "               '2022-03-18 08:00:00', '2022-03-18 09:00:00',\n",
       "               '2022-03-18 10:00:00', '2022-03-18 11:00:00',\n",
       "               '2022-03-18 12:00:00', '2022-03-18 13:00:00',\n",
       "               '2022-03-18 14:00:00', '2022-03-18 15:00:00',\n",
       "               '2022-03-18 16:00:00', '2022-03-18 17:00:00',\n",
       "               '2022-03-18 18:00:00', '2022-03-18 19:00:00',\n",
       "               '2022-03-18 20:00:00', '2022-03-18 21:00:00',\n",
       "               '2022-03-18 22:00:00', '2022-03-18 23:00:00',\n",
       "               '2022-03-19 00:00:00', '2022-03-19 01:00:00',\n",
       "               '2022-03-19 02:00:00', '2022-03-19 03:00:00',\n",
       "               '2022-03-19 04:00:00', '2022-03-19 05:00:00',\n",
       "               '2022-03-19 06:00:00', '2022-03-19 07:00:00',\n",
       "               '2022-03-19 08:00:00', '2022-03-19 09:00:00',\n",
       "               '2022-03-19 10:00:00', '2022-03-19 11:00:00',\n",
       "               '2022-03-19 12:00:00', '2022-03-19 13:00:00',\n",
       "               '2022-03-19 14:00:00', '2022-03-19 15:00:00',\n",
       "               '2022-03-19 16:00:00', '2022-03-19 17:00:00',\n",
       "               '2022-03-19 18:00:00', '2022-03-19 19:00:00',\n",
       "               '2022-03-19 20:00:00', '2022-03-19 21:00:00',\n",
       "               '2022-03-19 22:00:00', '2022-03-19 23:00:00',\n",
       "               '2022-03-20 00:00:00', '2022-03-20 01:00:00',\n",
       "               '2022-03-20 02:00:00', '2022-03-20 03:00:00',\n",
       "               '2022-03-20 04:00:00', '2022-03-20 05:00:00',\n",
       "               '2022-03-20 06:00:00', '2022-03-20 07:00:00',\n",
       "               '2022-03-20 08:00:00', '2022-03-20 09:00:00',\n",
       "               '2022-03-20 10:00:00', '2022-03-20 11:00:00'],\n",
       "              dtype='datetime64[ns]', freq='H')"
      ]
     },
     "execution_count": 5,
     "metadata": {},
     "output_type": "execute_result"
    }
   ],
   "source": [
    "pd.date_range('2022-3-18', periods = 60, freq='H')"
   ]
  },
  {
   "cell_type": "code",
   "execution_count": 6,
   "metadata": {},
   "outputs": [],
   "source": [
    "n = 500 \n",
    "index = pd.date_range(start='2018-1-1',periods=n,freq='d')\n",
    "values = np.random.standard_normal(size=n)\n",
    "\n",
    "df=pd.DataFrame({\n",
    "    'Data':values\n",
    "}, index=index)"
   ]
  },
  {
   "cell_type": "code",
   "execution_count": 8,
   "metadata": {},
   "outputs": [
    {
     "data": {
      "text/html": [
       "<div>\n",
       "<style scoped>\n",
       "    .dataframe tbody tr th:only-of-type {\n",
       "        vertical-align: middle;\n",
       "    }\n",
       "\n",
       "    .dataframe tbody tr th {\n",
       "        vertical-align: top;\n",
       "    }\n",
       "\n",
       "    .dataframe thead th {\n",
       "        text-align: right;\n",
       "    }\n",
       "</style>\n",
       "<table border=\"1\" class=\"dataframe\">\n",
       "  <thead>\n",
       "    <tr style=\"text-align: right;\">\n",
       "      <th></th>\n",
       "      <th>Data</th>\n",
       "    </tr>\n",
       "  </thead>\n",
       "  <tbody>\n",
       "    <tr>\n",
       "      <th>2018-01-01</th>\n",
       "      <td>-0.895209</td>\n",
       "    </tr>\n",
       "    <tr>\n",
       "      <th>2018-01-02</th>\n",
       "      <td>-0.165248</td>\n",
       "    </tr>\n",
       "    <tr>\n",
       "      <th>2018-01-03</th>\n",
       "      <td>0.390878</td>\n",
       "    </tr>\n",
       "    <tr>\n",
       "      <th>2018-01-04</th>\n",
       "      <td>-0.589941</td>\n",
       "    </tr>\n",
       "    <tr>\n",
       "      <th>2018-01-05</th>\n",
       "      <td>0.389782</td>\n",
       "    </tr>\n",
       "    <tr>\n",
       "      <th>...</th>\n",
       "      <td>...</td>\n",
       "    </tr>\n",
       "    <tr>\n",
       "      <th>2019-05-11</th>\n",
       "      <td>0.935734</td>\n",
       "    </tr>\n",
       "    <tr>\n",
       "      <th>2019-05-12</th>\n",
       "      <td>2.028752</td>\n",
       "    </tr>\n",
       "    <tr>\n",
       "      <th>2019-05-13</th>\n",
       "      <td>-0.682934</td>\n",
       "    </tr>\n",
       "    <tr>\n",
       "      <th>2019-05-14</th>\n",
       "      <td>0.724208</td>\n",
       "    </tr>\n",
       "    <tr>\n",
       "      <th>2019-05-15</th>\n",
       "      <td>-1.029581</td>\n",
       "    </tr>\n",
       "  </tbody>\n",
       "</table>\n",
       "<p>500 rows × 1 columns</p>\n",
       "</div>"
      ],
      "text/plain": [
       "                Data\n",
       "2018-01-01 -0.895209\n",
       "2018-01-02 -0.165248\n",
       "2018-01-03  0.390878\n",
       "2018-01-04 -0.589941\n",
       "2018-01-05  0.389782\n",
       "...              ...\n",
       "2019-05-11  0.935734\n",
       "2019-05-12  2.028752\n",
       "2019-05-13 -0.682934\n",
       "2019-05-14  0.724208\n",
       "2019-05-15 -1.029581\n",
       "\n",
       "[500 rows x 1 columns]"
      ]
     },
     "execution_count": 8,
     "metadata": {},
     "output_type": "execute_result"
    }
   ],
   "source": [
    "df"
   ]
  },
  {
   "cell_type": "code",
   "execution_count": 9,
   "metadata": {},
   "outputs": [
    {
     "data": {
      "text/plain": [
       "<AxesSubplot:>"
      ]
     },
     "execution_count": 9,
     "metadata": {},
     "output_type": "execute_result"
    },
    {
     "data": {
      "image/png": "[encoded data removed]",
      "text/plain": [
       "<Figure size 640x480 with 1 Axes>"
      ]
     },
     "metadata": {},
     "output_type": "display_data"
    }
   ],
   "source": [
    "df.Data.plot()"
   ]
  },
  {
   "cell_type": "code",
   "execution_count": 10,
   "metadata": {},
   "outputs": [
    {
     "data": {
      "text/plain": [
       "DatetimeIndex(['2018-01-01', '2018-01-02', '2018-01-03', '2018-01-04',\n",
       "               '2018-01-05', '2018-01-06', '2018-01-07', '2018-01-08',\n",
       "               '2018-01-09', '2018-01-10',\n",
       "               ...\n",
       "               '2019-05-06', '2019-05-07', '2019-05-08', '2019-05-09',\n",
       "               '2019-05-10', '2019-05-11', '2019-05-12', '2019-05-13',\n",
       "               '2019-05-14', '2019-05-15'],\n",
       "              dtype='datetime64[ns]', length=500, freq='D')"
      ]
     },
     "execution_count": 10,
     "metadata": {},
     "output_type": "execute_result"
    }
   ],
   "source": [
    "df.index"
   ]
  },
  {
   "cell_type": "markdown",
   "metadata": {},
   "source": [
    "Resampling, shifting e windowing"
   ]
  },
  {
   "cell_type": "code",
   "execution_count": 11,
   "metadata": {},
   "outputs": [],
   "source": [
    "petr = yf.Ticker('PETR3.SA').history(period= 'max')"
   ]
  },
  {
   "cell_type": "code",
   "execution_count": 12,
   "metadata": {},
   "outputs": [
    {
     "data": {
      "text/html": [
       "<div>\n",
       "<style scoped>\n",
       "    .dataframe tbody tr th:only-of-type {\n",
       "        vertical-align: middle;\n",
       "    }\n",
       "\n",
       "    .dataframe tbody tr th {\n",
       "        vertical-align: top;\n",
       "    }\n",
       "\n",
       "    .dataframe thead th {\n",
       "        text-align: right;\n",
       "    }\n",
       "</style>\n",
       "<table border=\"1\" class=\"dataframe\">\n",
       "  <thead>\n",
       "    <tr style=\"text-align: right;\">\n",
       "      <th></th>\n",
       "      <th>Open</th>\n",
       "      <th>High</th>\n",
       "      <th>Low</th>\n",
       "      <th>Close</th>\n",
       "      <th>Volume</th>\n",
       "      <th>Dividends</th>\n",
       "      <th>Stock Splits</th>\n",
       "    </tr>\n",
       "    <tr>\n",
       "      <th>Date</th>\n",
       "      <th></th>\n",
       "      <th></th>\n",
       "      <th></th>\n",
       "      <th></th>\n",
       "      <th></th>\n",
       "      <th></th>\n",
       "      <th></th>\n",
       "    </tr>\n",
       "  </thead>\n",
       "  <tbody>\n",
       "    <tr>\n",
       "      <th>2000-01-03</th>\n",
       "      <td>2.078388</td>\n",
       "      <td>2.078388</td>\n",
       "      <td>2.078388</td>\n",
       "      <td>2.078388</td>\n",
       "      <td>3998720000</td>\n",
       "      <td>0.0</td>\n",
       "      <td>0.0</td>\n",
       "    </tr>\n",
       "    <tr>\n",
       "      <th>2000-01-04</th>\n",
       "      <td>1.961744</td>\n",
       "      <td>1.961744</td>\n",
       "      <td>1.961744</td>\n",
       "      <td>1.961744</td>\n",
       "      <td>3098880000</td>\n",
       "      <td>0.0</td>\n",
       "      <td>0.0</td>\n",
       "    </tr>\n",
       "    <tr>\n",
       "      <th>2000-01-05</th>\n",
       "      <td>1.988254</td>\n",
       "      <td>1.988254</td>\n",
       "      <td>1.988254</td>\n",
       "      <td>1.988254</td>\n",
       "      <td>6645760000</td>\n",
       "      <td>0.0</td>\n",
       "      <td>0.0</td>\n",
       "    </tr>\n",
       "    <tr>\n",
       "      <th>2000-01-06</th>\n",
       "      <td>1.972347</td>\n",
       "      <td>1.972347</td>\n",
       "      <td>1.972347</td>\n",
       "      <td>1.972347</td>\n",
       "      <td>3303680000</td>\n",
       "      <td>0.0</td>\n",
       "      <td>0.0</td>\n",
       "    </tr>\n",
       "    <tr>\n",
       "      <th>2000-01-07</th>\n",
       "      <td>1.988254</td>\n",
       "      <td>1.988254</td>\n",
       "      <td>1.988254</td>\n",
       "      <td>1.988254</td>\n",
       "      <td>2506240000</td>\n",
       "      <td>0.0</td>\n",
       "      <td>0.0</td>\n",
       "    </tr>\n",
       "  </tbody>\n",
       "</table>\n",
       "</div>"
      ],
      "text/plain": [
       "                Open      High       Low     Close      Volume  Dividends  \\\n",
       "Date                                                                        \n",
       "2000-01-03  2.078388  2.078388  2.078388  2.078388  3998720000        0.0   \n",
       "2000-01-04  1.961744  1.961744  1.961744  1.961744  3098880000        0.0   \n",
       "2000-01-05  1.988254  1.988254  1.988254  1.988254  6645760000        0.0   \n",
       "2000-01-06  1.972347  1.972347  1.972347  1.972347  3303680000        0.0   \n",
       "2000-01-07  1.988254  1.988254  1.988254  1.988254  2506240000        0.0   \n",
       "\n",
       "            Stock Splits  \n",
       "Date                      \n",
       "2000-01-03           0.0  \n",
       "2000-01-04           0.0  \n",
       "2000-01-05           0.0  \n",
       "2000-01-06           0.0  \n",
       "2000-01-07           0.0  "
      ]
     },
     "execution_count": 12,
     "metadata": {},
     "output_type": "execute_result"
    }
   ],
   "source": [
    "petr.head()"
   ]
  },
  {
   "cell_type": "code",
   "execution_count": 13,
   "metadata": {},
   "outputs": [
    {
     "data": {
      "text/plain": [
       "<AxesSubplot:xlabel='Date'>"
      ]
     },
     "execution_count": 13,
     "metadata": {},
     "output_type": "execute_result"
    },
    {
     "data": {
      "image/png": "[encoded data removed]",
      "text/plain": [
       "<Figure size 640x480 with 1 Axes>"
      ]
     },
     "metadata": {},
     "output_type": "display_data"
    }
   ],
   "source": [
    "petr.Close.plot()"
   ]
  },
  {
   "cell_type": "code",
   "execution_count": 14,
   "metadata": {},
   "outputs": [
    {
     "data": {
      "text/plain": [
       "DatetimeIndex(['2000-01-03', '2000-01-04', '2000-01-05', '2000-01-06',\n",
       "               '2000-01-07', '2000-01-10', '2000-01-11', '2000-01-12',\n",
       "               '2000-01-13', '2000-01-14',\n",
       "               ...\n",
       "               '2022-08-24', '2022-08-25', '2022-08-26', '2022-08-29',\n",
       "               '2022-08-30', '2022-08-31', '2022-09-01', '2022-09-02',\n",
       "               '2022-09-05', '2022-09-06'],\n",
       "              dtype='datetime64[ns]', name='Date', length=5625, freq=None)"
      ]
     },
     "execution_count": 14,
     "metadata": {},
     "output_type": "execute_result"
    }
   ],
   "source": [
    "petr.index"
   ]
  },
  {
   "cell_type": "code",
   "execution_count": 15,
   "metadata": {},
   "outputs": [
    {
     "data": {
      "text/html": [
       "<div>\n",
       "<style scoped>\n",
       "    .dataframe tbody tr th:only-of-type {\n",
       "        vertical-align: middle;\n",
       "    }\n",
       "\n",
       "    .dataframe tbody tr th {\n",
       "        vertical-align: top;\n",
       "    }\n",
       "\n",
       "    .dataframe thead th {\n",
       "        text-align: right;\n",
       "    }\n",
       "</style>\n",
       "<table border=\"1\" class=\"dataframe\">\n",
       "  <thead>\n",
       "    <tr style=\"text-align: right;\">\n",
       "      <th></th>\n",
       "      <th>Open</th>\n",
       "      <th>High</th>\n",
       "      <th>Low</th>\n",
       "      <th>Close</th>\n",
       "      <th>Volume</th>\n",
       "      <th>Dividends</th>\n",
       "      <th>Stock Splits</th>\n",
       "    </tr>\n",
       "    <tr>\n",
       "      <th>Date</th>\n",
       "      <th></th>\n",
       "      <th></th>\n",
       "      <th></th>\n",
       "      <th></th>\n",
       "      <th></th>\n",
       "      <th></th>\n",
       "      <th></th>\n",
       "    </tr>\n",
       "  </thead>\n",
       "  <tbody>\n",
       "    <tr>\n",
       "      <th>2022-09-02</th>\n",
       "      <td>38.349998</td>\n",
       "      <td>38.709999</td>\n",
       "      <td>37.169998</td>\n",
       "      <td>37.290001</td>\n",
       "      <td>21607500</td>\n",
       "      <td>0.0</td>\n",
       "      <td>0.0</td>\n",
       "    </tr>\n",
       "    <tr>\n",
       "      <th>2022-09-05</th>\n",
       "      <td>37.799999</td>\n",
       "      <td>37.959999</td>\n",
       "      <td>37.070000</td>\n",
       "      <td>37.209999</td>\n",
       "      <td>12457600</td>\n",
       "      <td>0.0</td>\n",
       "      <td>0.0</td>\n",
       "    </tr>\n",
       "    <tr>\n",
       "      <th>2022-09-06</th>\n",
       "      <td>36.160000</td>\n",
       "      <td>36.470001</td>\n",
       "      <td>35.340000</td>\n",
       "      <td>35.900002</td>\n",
       "      <td>28311100</td>\n",
       "      <td>0.0</td>\n",
       "      <td>0.0</td>\n",
       "    </tr>\n",
       "  </tbody>\n",
       "</table>\n",
       "</div>"
      ],
      "text/plain": [
       "                 Open       High        Low      Close    Volume  Dividends  \\\n",
       "Date                                                                          \n",
       "2022-09-02  38.349998  38.709999  37.169998  37.290001  21607500        0.0   \n",
       "2022-09-05  37.799999  37.959999  37.070000  37.209999  12457600        0.0   \n",
       "2022-09-06  36.160000  36.470001  35.340000  35.900002  28311100        0.0   \n",
       "\n",
       "            Stock Splits  \n",
       "Date                      \n",
       "2022-09-02           0.0  \n",
       "2022-09-05           0.0  \n",
       "2022-09-06           0.0  "
      ]
     },
     "execution_count": 15,
     "metadata": {},
     "output_type": "execute_result"
    }
   ],
   "source": [
    "# pega os ultimos 5 dias\n",
    "petr.last('5D')"
   ]
  },
  {
   "cell_type": "code",
   "execution_count": 16,
   "metadata": {},
   "outputs": [
    {
     "data": {
      "text/html": [
       "<div>\n",
       "<style scoped>\n",
       "    .dataframe tbody tr th:only-of-type {\n",
       "        vertical-align: middle;\n",
       "    }\n",
       "\n",
       "    .dataframe tbody tr th {\n",
       "        vertical-align: top;\n",
       "    }\n",
       "\n",
       "    .dataframe thead th {\n",
       "        text-align: right;\n",
       "    }\n",
       "</style>\n",
       "<table border=\"1\" class=\"dataframe\">\n",
       "  <thead>\n",
       "    <tr style=\"text-align: right;\">\n",
       "      <th></th>\n",
       "      <th>Open</th>\n",
       "      <th>High</th>\n",
       "      <th>Low</th>\n",
       "      <th>Close</th>\n",
       "      <th>Volume</th>\n",
       "      <th>Dividends</th>\n",
       "      <th>Stock Splits</th>\n",
       "    </tr>\n",
       "    <tr>\n",
       "      <th>Date</th>\n",
       "      <th></th>\n",
       "      <th></th>\n",
       "      <th></th>\n",
       "      <th></th>\n",
       "      <th></th>\n",
       "      <th></th>\n",
       "      <th></th>\n",
       "    </tr>\n",
       "  </thead>\n",
       "  <tbody>\n",
       "    <tr>\n",
       "      <th>2022-07-01</th>\n",
       "      <td>25.312545</td>\n",
       "      <td>25.982582</td>\n",
       "      <td>24.816220</td>\n",
       "      <td>25.734421</td>\n",
       "      <td>13968700</td>\n",
       "      <td>0.0</td>\n",
       "      <td>0.0</td>\n",
       "    </tr>\n",
       "    <tr>\n",
       "      <th>2022-07-04</th>\n",
       "      <td>25.775780</td>\n",
       "      <td>26.578172</td>\n",
       "      <td>25.742693</td>\n",
       "      <td>26.346554</td>\n",
       "      <td>5781000</td>\n",
       "      <td>0.0</td>\n",
       "      <td>0.0</td>\n",
       "    </tr>\n",
       "    <tr>\n",
       "      <th>2022-07-05</th>\n",
       "      <td>26.057032</td>\n",
       "      <td>26.057032</td>\n",
       "      <td>24.683867</td>\n",
       "      <td>25.221552</td>\n",
       "      <td>17539000</td>\n",
       "      <td>0.0</td>\n",
       "      <td>0.0</td>\n",
       "    </tr>\n",
       "    <tr>\n",
       "      <th>2022-07-06</th>\n",
       "      <td>25.461441</td>\n",
       "      <td>25.494529</td>\n",
       "      <td>24.220630</td>\n",
       "      <td>24.841036</td>\n",
       "      <td>11767100</td>\n",
       "      <td>0.0</td>\n",
       "      <td>0.0</td>\n",
       "    </tr>\n",
       "    <tr>\n",
       "      <th>2022-07-07</th>\n",
       "      <td>25.378722</td>\n",
       "      <td>25.817141</td>\n",
       "      <td>25.320818</td>\n",
       "      <td>25.577251</td>\n",
       "      <td>10338500</td>\n",
       "      <td>0.0</td>\n",
       "      <td>0.0</td>\n",
       "    </tr>\n",
       "  </tbody>\n",
       "</table>\n",
       "</div>"
      ],
      "text/plain": [
       "                 Open       High        Low      Close    Volume  Dividends  \\\n",
       "Date                                                                          \n",
       "2022-07-01  25.312545  25.982582  24.816220  25.734421  13968700        0.0   \n",
       "2022-07-04  25.775780  26.578172  25.742693  26.346554   5781000        0.0   \n",
       "2022-07-05  26.057032  26.057032  24.683867  25.221552  17539000        0.0   \n",
       "2022-07-06  25.461441  25.494529  24.220630  24.841036  11767100        0.0   \n",
       "2022-07-07  25.378722  25.817141  25.320818  25.577251  10338500        0.0   \n",
       "\n",
       "            Stock Splits  \n",
       "Date                      \n",
       "2022-07-01           0.0  \n",
       "2022-07-04           0.0  \n",
       "2022-07-05           0.0  \n",
       "2022-07-06           0.0  \n",
       "2022-07-07           0.0  "
      ]
     },
     "execution_count": 16,
     "metadata": {},
     "output_type": "execute_result"
    }
   ],
   "source": [
    "# pega os ultimos 3 meses\n",
    "petr.last('3M').head()"
   ]
  },
  {
   "cell_type": "code",
   "execution_count": 17,
   "metadata": {},
   "outputs": [
    {
     "data": {
      "text/html": [
       "<div>\n",
       "<style scoped>\n",
       "    .dataframe tbody tr th:only-of-type {\n",
       "        vertical-align: middle;\n",
       "    }\n",
       "\n",
       "    .dataframe tbody tr th {\n",
       "        vertical-align: top;\n",
       "    }\n",
       "\n",
       "    .dataframe thead th {\n",
       "        text-align: right;\n",
       "    }\n",
       "</style>\n",
       "<table border=\"1\" class=\"dataframe\">\n",
       "  <thead>\n",
       "    <tr style=\"text-align: right;\">\n",
       "      <th></th>\n",
       "      <th>Open</th>\n",
       "      <th>High</th>\n",
       "      <th>Low</th>\n",
       "      <th>Close</th>\n",
       "      <th>Volume</th>\n",
       "      <th>Dividends</th>\n",
       "      <th>Stock Splits</th>\n",
       "    </tr>\n",
       "    <tr>\n",
       "      <th>Date</th>\n",
       "      <th></th>\n",
       "      <th></th>\n",
       "      <th></th>\n",
       "      <th></th>\n",
       "      <th></th>\n",
       "      <th></th>\n",
       "      <th></th>\n",
       "    </tr>\n",
       "  </thead>\n",
       "  <tbody>\n",
       "    <tr>\n",
       "      <th>2000-01-03</th>\n",
       "      <td>2.078388</td>\n",
       "      <td>2.078388</td>\n",
       "      <td>2.078388</td>\n",
       "      <td>2.078388</td>\n",
       "      <td>3998720000</td>\n",
       "      <td>0.0</td>\n",
       "      <td>0.0</td>\n",
       "    </tr>\n",
       "    <tr>\n",
       "      <th>2000-01-04</th>\n",
       "      <td>1.961744</td>\n",
       "      <td>1.961744</td>\n",
       "      <td>1.961744</td>\n",
       "      <td>1.961744</td>\n",
       "      <td>3098880000</td>\n",
       "      <td>0.0</td>\n",
       "      <td>0.0</td>\n",
       "    </tr>\n",
       "    <tr>\n",
       "      <th>2000-01-05</th>\n",
       "      <td>1.988254</td>\n",
       "      <td>1.988254</td>\n",
       "      <td>1.988254</td>\n",
       "      <td>1.988254</td>\n",
       "      <td>6645760000</td>\n",
       "      <td>0.0</td>\n",
       "      <td>0.0</td>\n",
       "    </tr>\n",
       "    <tr>\n",
       "      <th>2000-01-06</th>\n",
       "      <td>1.972347</td>\n",
       "      <td>1.972347</td>\n",
       "      <td>1.972347</td>\n",
       "      <td>1.972347</td>\n",
       "      <td>3303680000</td>\n",
       "      <td>0.0</td>\n",
       "      <td>0.0</td>\n",
       "    </tr>\n",
       "    <tr>\n",
       "      <th>2000-01-07</th>\n",
       "      <td>1.988254</td>\n",
       "      <td>1.988254</td>\n",
       "      <td>1.988254</td>\n",
       "      <td>1.988254</td>\n",
       "      <td>2506240000</td>\n",
       "      <td>0.0</td>\n",
       "      <td>0.0</td>\n",
       "    </tr>\n",
       "    <tr>\n",
       "      <th>...</th>\n",
       "      <td>...</td>\n",
       "      <td>...</td>\n",
       "      <td>...</td>\n",
       "      <td>...</td>\n",
       "      <td>...</td>\n",
       "      <td>...</td>\n",
       "      <td>...</td>\n",
       "    </tr>\n",
       "    <tr>\n",
       "      <th>2000-03-27</th>\n",
       "      <td>2.354092</td>\n",
       "      <td>2.354092</td>\n",
       "      <td>2.354092</td>\n",
       "      <td>2.354092</td>\n",
       "      <td>5706240000</td>\n",
       "      <td>0.0</td>\n",
       "      <td>0.0</td>\n",
       "    </tr>\n",
       "    <tr>\n",
       "      <th>2000-03-28</th>\n",
       "      <td>2.322280</td>\n",
       "      <td>2.322280</td>\n",
       "      <td>2.322280</td>\n",
       "      <td>2.322280</td>\n",
       "      <td>3650560000</td>\n",
       "      <td>0.0</td>\n",
       "      <td>0.0</td>\n",
       "    </tr>\n",
       "    <tr>\n",
       "      <th>2000-03-29</th>\n",
       "      <td>2.277213</td>\n",
       "      <td>2.277213</td>\n",
       "      <td>2.277213</td>\n",
       "      <td>2.277213</td>\n",
       "      <td>672000000</td>\n",
       "      <td>0.0</td>\n",
       "      <td>0.0</td>\n",
       "    </tr>\n",
       "    <tr>\n",
       "      <th>2000-03-30</th>\n",
       "      <td>2.332884</td>\n",
       "      <td>2.332884</td>\n",
       "      <td>2.332884</td>\n",
       "      <td>2.332884</td>\n",
       "      <td>2140160000</td>\n",
       "      <td>0.0</td>\n",
       "      <td>0.0</td>\n",
       "    </tr>\n",
       "    <tr>\n",
       "      <th>2000-03-31</th>\n",
       "      <td>2.332884</td>\n",
       "      <td>2.332884</td>\n",
       "      <td>2.332884</td>\n",
       "      <td>2.332884</td>\n",
       "      <td>1159680000</td>\n",
       "      <td>0.0</td>\n",
       "      <td>0.0</td>\n",
       "    </tr>\n",
       "  </tbody>\n",
       "</table>\n",
       "<p>62 rows × 7 columns</p>\n",
       "</div>"
      ],
      "text/plain": [
       "                Open      High       Low     Close      Volume  Dividends  \\\n",
       "Date                                                                        \n",
       "2000-01-03  2.078388  2.078388  2.078388  2.078388  3998720000        0.0   \n",
       "2000-01-04  1.961744  1.961744  1.961744  1.961744  3098880000        0.0   \n",
       "2000-01-05  1.988254  1.988254  1.988254  1.988254  6645760000        0.0   \n",
       "2000-01-06  1.972347  1.972347  1.972347  1.972347  3303680000        0.0   \n",
       "2000-01-07  1.988254  1.988254  1.988254  1.988254  2506240000        0.0   \n",
       "...              ...       ...       ...       ...         ...        ...   \n",
       "2000-03-27  2.354092  2.354092  2.354092  2.354092  5706240000        0.0   \n",
       "2000-03-28  2.322280  2.322280  2.322280  2.322280  3650560000        0.0   \n",
       "2000-03-29  2.277213  2.277213  2.277213  2.277213   672000000        0.0   \n",
       "2000-03-30  2.332884  2.332884  2.332884  2.332884  2140160000        0.0   \n",
       "2000-03-31  2.332884  2.332884  2.332884  2.332884  1159680000        0.0   \n",
       "\n",
       "            Stock Splits  \n",
       "Date                      \n",
       "2000-01-03           0.0  \n",
       "2000-01-04           0.0  \n",
       "2000-01-05           0.0  \n",
       "2000-01-06           0.0  \n",
       "2000-01-07           0.0  \n",
       "...                  ...  \n",
       "2000-03-27           0.0  \n",
       "2000-03-28           0.0  \n",
       "2000-03-29           0.0  \n",
       "2000-03-30           0.0  \n",
       "2000-03-31           0.0  \n",
       "\n",
       "[62 rows x 7 columns]"
      ]
     },
     "execution_count": 17,
     "metadata": {},
     "output_type": "execute_result"
    }
   ],
   "source": [
    "petr.first('3M')"
   ]
  },
  {
   "cell_type": "code",
   "execution_count": 18,
   "metadata": {},
   "outputs": [
    {
     "data": {
      "text/plain": [
       "Date\n",
       "2022-01-03    21.726627\n",
       "2022-01-04    22.002344\n",
       "2022-01-05    21.099367\n",
       "2022-01-06    21.078688\n",
       "2022-01-07    21.251011\n",
       "                ...    \n",
       "2022-08-31    37.169998\n",
       "2022-09-01    37.840000\n",
       "2022-09-02    37.290001\n",
       "2022-09-05    37.209999\n",
       "2022-09-06    35.900002\n",
       "Name: Close, Length: 172, dtype: float64"
      ]
     },
     "execution_count": 18,
     "metadata": {},
     "output_type": "execute_result"
    }
   ],
   "source": [
    "petr.loc['2022']['Close']"
   ]
  },
  {
   "cell_type": "code",
   "execution_count": 22,
   "metadata": {},
   "outputs": [
    {
     "data": {
      "text/plain": [
       "<AxesSubplot:xlabel='Date'>"
      ]
     },
     "execution_count": 22,
     "metadata": {},
     "output_type": "execute_result"
    },
    {
     "data": {
      "image/png": "[encoded data removed]",
      "text/plain": [
       "<Figure size 640x480 with 1 Axes>"
      ]
     },
     "metadata": {},
     "output_type": "display_data"
    }
   ],
   "source": [
    "petr.loc['2019-1-1':].plot()"
   ]
  },
  {
   "cell_type": "code",
   "execution_count": 21,
   "metadata": {},
   "outputs": [
    {
     "data": {
      "text/html": [
       "<div>\n",
       "<style scoped>\n",
       "    .dataframe tbody tr th:only-of-type {\n",
       "        vertical-align: middle;\n",
       "    }\n",
       "\n",
       "    .dataframe tbody tr th {\n",
       "        vertical-align: top;\n",
       "    }\n",
       "\n",
       "    .dataframe thead th {\n",
       "        text-align: right;\n",
       "    }\n",
       "</style>\n",
       "<table border=\"1\" class=\"dataframe\">\n",
       "  <thead>\n",
       "    <tr style=\"text-align: right;\">\n",
       "      <th></th>\n",
       "      <th>Open</th>\n",
       "      <th>High</th>\n",
       "      <th>Low</th>\n",
       "      <th>Close</th>\n",
       "      <th>Volume</th>\n",
       "      <th>Dividends</th>\n",
       "      <th>Stock Splits</th>\n",
       "    </tr>\n",
       "    <tr>\n",
       "      <th>Date</th>\n",
       "      <th></th>\n",
       "      <th></th>\n",
       "      <th></th>\n",
       "      <th></th>\n",
       "      <th></th>\n",
       "      <th></th>\n",
       "      <th></th>\n",
       "    </tr>\n",
       "  </thead>\n",
       "  <tbody>\n",
       "    <tr>\n",
       "      <th>2018-01-02</th>\n",
       "      <td>8.962485</td>\n",
       "      <td>9.141840</td>\n",
       "      <td>8.957209</td>\n",
       "      <td>9.141840</td>\n",
       "      <td>4488000</td>\n",
       "      <td>0.0</td>\n",
       "      <td>0.0</td>\n",
       "    </tr>\n",
       "    <tr>\n",
       "      <th>2018-01-03</th>\n",
       "      <td>9.094366</td>\n",
       "      <td>9.321198</td>\n",
       "      <td>9.078540</td>\n",
       "      <td>9.257895</td>\n",
       "      <td>9771700</td>\n",
       "      <td>0.0</td>\n",
       "      <td>0.0</td>\n",
       "    </tr>\n",
       "    <tr>\n",
       "      <th>2018-01-04</th>\n",
       "      <td>9.321196</td>\n",
       "      <td>9.442524</td>\n",
       "      <td>9.300095</td>\n",
       "      <td>9.337022</td>\n",
       "      <td>6816500</td>\n",
       "      <td>0.0</td>\n",
       "      <td>0.0</td>\n",
       "    </tr>\n",
       "    <tr>\n",
       "      <th>2018-01-05</th>\n",
       "      <td>9.331747</td>\n",
       "      <td>9.416150</td>\n",
       "      <td>9.284271</td>\n",
       "      <td>9.410874</td>\n",
       "      <td>4646500</td>\n",
       "      <td>0.0</td>\n",
       "      <td>0.0</td>\n",
       "    </tr>\n",
       "    <tr>\n",
       "      <th>2018-01-08</th>\n",
       "      <td>9.305370</td>\n",
       "      <td>9.558578</td>\n",
       "      <td>9.289546</td>\n",
       "      <td>9.558578</td>\n",
       "      <td>4763400</td>\n",
       "      <td>0.0</td>\n",
       "      <td>0.0</td>\n",
       "    </tr>\n",
       "    <tr>\n",
       "      <th>...</th>\n",
       "      <td>...</td>\n",
       "      <td>...</td>\n",
       "      <td>...</td>\n",
       "      <td>...</td>\n",
       "      <td>...</td>\n",
       "      <td>...</td>\n",
       "      <td>...</td>\n",
       "    </tr>\n",
       "    <tr>\n",
       "      <th>2020-12-22</th>\n",
       "      <td>15.617545</td>\n",
       "      <td>15.803200</td>\n",
       "      <td>15.521904</td>\n",
       "      <td>15.662552</td>\n",
       "      <td>8388700</td>\n",
       "      <td>0.0</td>\n",
       "      <td>0.0</td>\n",
       "    </tr>\n",
       "    <tr>\n",
       "      <th>2020-12-23</th>\n",
       "      <td>15.735688</td>\n",
       "      <td>16.270151</td>\n",
       "      <td>15.735688</td>\n",
       "      <td>16.000107</td>\n",
       "      <td>5874900</td>\n",
       "      <td>0.0</td>\n",
       "      <td>0.0</td>\n",
       "    </tr>\n",
       "    <tr>\n",
       "      <th>2020-12-28</th>\n",
       "      <td>16.202637</td>\n",
       "      <td>16.388292</td>\n",
       "      <td>16.106996</td>\n",
       "      <td>16.118248</td>\n",
       "      <td>7255700</td>\n",
       "      <td>0.0</td>\n",
       "      <td>0.0</td>\n",
       "    </tr>\n",
       "    <tr>\n",
       "      <th>2020-12-29</th>\n",
       "      <td>16.202638</td>\n",
       "      <td>16.281401</td>\n",
       "      <td>15.983227</td>\n",
       "      <td>16.129501</td>\n",
       "      <td>7363400</td>\n",
       "      <td>0.0</td>\n",
       "      <td>0.0</td>\n",
       "    </tr>\n",
       "    <tr>\n",
       "      <th>2020-12-30</th>\n",
       "      <td>16.230768</td>\n",
       "      <td>16.365790</td>\n",
       "      <td>16.174509</td>\n",
       "      <td>16.230768</td>\n",
       "      <td>20928700</td>\n",
       "      <td>0.0</td>\n",
       "      <td>0.0</td>\n",
       "    </tr>\n",
       "  </tbody>\n",
       "</table>\n",
       "<p>742 rows × 7 columns</p>\n",
       "</div>"
      ],
      "text/plain": [
       "                 Open       High        Low      Close    Volume  Dividends  \\\n",
       "Date                                                                          \n",
       "2018-01-02   8.962485   9.141840   8.957209   9.141840   4488000        0.0   \n",
       "2018-01-03   9.094366   9.321198   9.078540   9.257895   9771700        0.0   \n",
       "2018-01-04   9.321196   9.442524   9.300095   9.337022   6816500        0.0   \n",
       "2018-01-05   9.331747   9.416150   9.284271   9.410874   4646500        0.0   \n",
       "2018-01-08   9.305370   9.558578   9.289546   9.558578   4763400        0.0   \n",
       "...               ...        ...        ...        ...       ...        ...   \n",
       "2020-12-22  15.617545  15.803200  15.521904  15.662552   8388700        0.0   \n",
       "2020-12-23  15.735688  16.270151  15.735688  16.000107   5874900        0.0   \n",
       "2020-12-28  16.202637  16.388292  16.106996  16.118248   7255700        0.0   \n",
       "2020-12-29  16.202638  16.281401  15.983227  16.129501   7363400        0.0   \n",
       "2020-12-30  16.230768  16.365790  16.174509  16.230768  20928700        0.0   \n",
       "\n",
       "            Stock Splits  \n",
       "Date                      \n",
       "2018-01-02           0.0  \n",
       "2018-01-03           0.0  \n",
       "2018-01-04           0.0  \n",
       "2018-01-05           0.0  \n",
       "2018-01-08           0.0  \n",
       "...                  ...  \n",
       "2020-12-22           0.0  \n",
       "2020-12-23           0.0  \n",
       "2020-12-28           0.0  \n",
       "2020-12-29           0.0  \n",
       "2020-12-30           0.0  \n",
       "\n",
       "[742 rows x 7 columns]"
      ]
     },
     "execution_count": 21,
     "metadata": {},
     "output_type": "execute_result"
    }
   ],
   "source": [
    "petr.loc['2018-1-1':'2020-12-31']"
   ]
  },
  {
   "cell_type": "markdown",
   "metadata": {},
   "source": [
    "Resample - de diario para mensal, no caso da cotação"
   ]
  },
  {
   "cell_type": "code",
   "execution_count": 23,
   "metadata": {},
   "outputs": [
    {
     "data": {
      "text/plain": [
       "Date\n",
       "2000-12-29     2.573103\n",
       "2001-12-31     3.176523\n",
       "2002-12-31     2.906525\n",
       "2003-12-31     3.440928\n",
       "2004-12-31     5.256818\n",
       "2005-12-30     7.310987\n",
       "2006-12-29    10.904381\n",
       "2007-12-31    14.108332\n",
       "2008-12-31    19.420837\n",
       "2009-12-31    17.595813\n",
       "2010-12-31    15.707903\n",
       "2011-12-30    12.753288\n",
       "2012-12-31    11.182525\n",
       "2013-12-31     8.721891\n",
       "2014-12-31     8.246993\n",
       "2015-12-31     5.639096\n",
       "2016-12-30     6.784504\n",
       "2017-12-29     8.104630\n",
       "2018-12-31    12.363460\n",
       "2019-12-31    16.112694\n",
       "2020-12-31    12.765229\n",
       "2021-12-31    16.299504\n",
       "2022-12-30    26.790904\n",
       "Freq: BA-DEC, Name: Close, dtype: float64"
      ]
     },
     "execution_count": 23,
     "metadata": {},
     "output_type": "execute_result"
    }
   ],
   "source": [
    "# Business year end - transformou de cotação diaria para média anual\n",
    "petr['Close'].resample('BA').mean()"
   ]
  },
  {
   "cell_type": "code",
   "execution_count": 24,
   "metadata": {},
   "outputs": [
    {
     "data": {
      "text/plain": [
       "Date\n",
       "2000-12-31     2.573103\n",
       "2001-12-31     3.176523\n",
       "2002-12-31     2.906525\n",
       "2003-12-31     3.440928\n",
       "2004-12-31     5.256818\n",
       "2005-12-31     7.310987\n",
       "2006-12-31    10.904381\n",
       "2007-12-31    14.108332\n",
       "2008-12-31    19.420837\n",
       "2009-12-31    17.595813\n",
       "2010-12-31    15.707903\n",
       "2011-12-31    12.753288\n",
       "2012-12-31    11.182525\n",
       "2013-12-31     8.721891\n",
       "2014-12-31     8.246993\n",
       "2015-12-31     5.639096\n",
       "2016-12-31     6.784504\n",
       "2017-12-31     8.104630\n",
       "2018-12-31    12.363460\n",
       "2019-12-31    16.112694\n",
       "2020-12-31    12.765229\n",
       "2021-12-31    16.299504\n",
       "2022-12-31    26.790904\n",
       "Freq: A-DEC, Name: Close, dtype: float64"
      ]
     },
     "execution_count": 24,
     "metadata": {},
     "output_type": "execute_result"
    }
   ],
   "source": [
    "# Year\n",
    "petr['Close'].resample('Y').mean()\n"
   ]
  },
  {
   "cell_type": "code",
   "execution_count": 25,
   "metadata": {},
   "outputs": [
    {
     "data": {
      "text/plain": [
       "Date\n",
       "2000-01-31     1.899713\n",
       "2000-02-29     2.081447\n",
       "2000-03-31     2.312693\n",
       "2000-04-30     2.177164\n",
       "2000-05-31     2.026165\n",
       "                ...    \n",
       "2022-05-31    27.270348\n",
       "2022-06-30    26.241380\n",
       "2022-07-31    26.365461\n",
       "2022-08-31    34.455468\n",
       "2022-09-30    37.060000\n",
       "Freq: M, Name: Close, Length: 273, dtype: float64"
      ]
     },
     "execution_count": 25,
     "metadata": {},
     "output_type": "execute_result"
    }
   ],
   "source": [
    "# Month\n",
    "petr['Close'].resample('M').mean()\n"
   ]
  },
  {
   "cell_type": "code",
   "execution_count": 26,
   "metadata": {},
   "outputs": [
    {
     "data": {
      "text/plain": [
       "Date\n",
       "2000-01-09     1.997797\n",
       "2000-01-16     1.953260\n",
       "2000-01-23     1.863126\n",
       "2000-01-30     1.780163\n",
       "2000-02-06     1.924099\n",
       "                ...    \n",
       "2022-08-14    33.090936\n",
       "2022-08-21    35.674001\n",
       "2022-08-28    37.022000\n",
       "2022-09-04    37.336000\n",
       "2022-09-11    36.555000\n",
       "Freq: W-SUN, Name: Close, Length: 1184, dtype: float64"
      ]
     },
     "execution_count": 26,
     "metadata": {},
     "output_type": "execute_result"
    }
   ],
   "source": [
    "# Weekly\n",
    "petr['Close'].resample('W').mean()\n"
   ]
  },
  {
   "cell_type": "code",
   "execution_count": 28,
   "metadata": {},
   "outputs": [
    {
     "data": {
      "text/plain": [
       "Text(0.5, 1.0, 'PETR3.SA Close price')"
      ]
     },
     "execution_count": 28,
     "metadata": {},
     "output_type": "execute_result"
    },
    {
     "data": {
      "image/png": "[encoded data removed]",
      "text/plain": [
       "<Figure size 640x480 with 1 Axes>"
      ]
     },
     "metadata": {},
     "output_type": "display_data"
    }
   ],
   "source": [
    "petr['Close'].resample('M').mean().plot(color = 'k')\n",
    "plt.title('PETR3.SA Close price')\n"
   ]
  },
  {
   "cell_type": "code",
   "execution_count": null,
   "metadata": {},
   "outputs": [],
   "source": []
  }
 ],
 "metadata": {
  "kernelspec": {
   "display_name": "Python 3.10.6 64-bit",
   "language": "python",
   "name": "python3"
  },
  "language_info": {
   "codemirror_mode": {
    "name": "ipython",
    "version": 3
   },
   "file_extension": ".py",
   "mimetype": "text/x-python",
   "name": "python",
   "nbconvert_exporter": "python",
   "pygments_lexer": "ipython3",
   "version": "3.10.6"
  },
  "orig_nbformat": 4,
  "vscode": {
   "interpreter": {
    "hash": "369f2c481f4da34e4445cda3fffd2e751bd1c4d706f27375911949ba6bb62e1c"
   }
  }
 },
 "nbformat": 4,
 "nbformat_minor": 2
}
