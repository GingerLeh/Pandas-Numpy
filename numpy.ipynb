{
 "cells": [
  {
   "cell_type": "markdown",
   "metadata": {},
   "source": [
    "Revisão numpy"
   ]
  },
  {
   "cell_type": "code",
   "execution_count": 2,
   "metadata": {},
   "outputs": [],
   "source": [
    "import numpy as np"
   ]
  },
  {
   "cell_type": "code",
   "execution_count": 3,
   "metadata": {},
   "outputs": [],
   "source": [
    "vetor = np.array([9,2,3,4,5])"
   ]
  },
  {
   "cell_type": "code",
   "execution_count": 4,
   "metadata": {},
   "outputs": [
    {
     "data": {
      "text/plain": [
       "['T',\n",
       " '__abs__',\n",
       " '__add__',\n",
       " '__and__',\n",
       " '__array__',\n",
       " '__array_finalize__',\n",
       " '__array_function__',\n",
       " '__array_interface__',\n",
       " '__array_prepare__',\n",
       " '__array_priority__',\n",
       " '__array_struct__',\n",
       " '__array_ufunc__',\n",
       " '__array_wrap__',\n",
       " '__bool__',\n",
       " '__class__',\n",
       " '__class_getitem__',\n",
       " '__complex__',\n",
       " '__contains__',\n",
       " '__copy__',\n",
       " '__deepcopy__',\n",
       " '__delattr__',\n",
       " '__delitem__',\n",
       " '__dir__',\n",
       " '__divmod__',\n",
       " '__dlpack__',\n",
       " '__dlpack_device__',\n",
       " '__doc__',\n",
       " '__eq__',\n",
       " '__float__',\n",
       " '__floordiv__',\n",
       " '__format__',\n",
       " '__ge__',\n",
       " '__getattribute__',\n",
       " '__getitem__',\n",
       " '__gt__',\n",
       " '__hash__',\n",
       " '__iadd__',\n",
       " '__iand__',\n",
       " '__ifloordiv__',\n",
       " '__ilshift__',\n",
       " '__imatmul__',\n",
       " '__imod__',\n",
       " '__imul__',\n",
       " '__index__',\n",
       " '__init__',\n",
       " '__init_subclass__',\n",
       " '__int__',\n",
       " '__invert__',\n",
       " '__ior__',\n",
       " '__ipow__',\n",
       " '__irshift__',\n",
       " '__isub__',\n",
       " '__iter__',\n",
       " '__itruediv__',\n",
       " '__ixor__',\n",
       " '__le__',\n",
       " '__len__',\n",
       " '__lshift__',\n",
       " '__lt__',\n",
       " '__matmul__',\n",
       " '__mod__',\n",
       " '__mul__',\n",
       " '__ne__',\n",
       " '__neg__',\n",
       " '__new__',\n",
       " '__or__',\n",
       " '__pos__',\n",
       " '__pow__',\n",
       " '__radd__',\n",
       " '__rand__',\n",
       " '__rdivmod__',\n",
       " '__reduce__',\n",
       " '__reduce_ex__',\n",
       " '__repr__',\n",
       " '__rfloordiv__',\n",
       " '__rlshift__',\n",
       " '__rmatmul__',\n",
       " '__rmod__',\n",
       " '__rmul__',\n",
       " '__ror__',\n",
       " '__rpow__',\n",
       " '__rrshift__',\n",
       " '__rshift__',\n",
       " '__rsub__',\n",
       " '__rtruediv__',\n",
       " '__rxor__',\n",
       " '__setattr__',\n",
       " '__setitem__',\n",
       " '__setstate__',\n",
       " '__sizeof__',\n",
       " '__str__',\n",
       " '__sub__',\n",
       " '__subclasshook__',\n",
       " '__truediv__',\n",
       " '__xor__',\n",
       " 'all',\n",
       " 'any',\n",
       " 'argmax',\n",
       " 'argmin',\n",
       " 'argpartition',\n",
       " 'argsort',\n",
       " 'astype',\n",
       " 'base',\n",
       " 'byteswap',\n",
       " 'choose',\n",
       " 'clip',\n",
       " 'compress',\n",
       " 'conj',\n",
       " 'conjugate',\n",
       " 'copy',\n",
       " 'ctypes',\n",
       " 'cumprod',\n",
       " 'cumsum',\n",
       " 'data',\n",
       " 'diagonal',\n",
       " 'dot',\n",
       " 'dtype',\n",
       " 'dump',\n",
       " 'dumps',\n",
       " 'fill',\n",
       " 'flags',\n",
       " 'flat',\n",
       " 'flatten',\n",
       " 'getfield',\n",
       " 'imag',\n",
       " 'item',\n",
       " 'itemset',\n",
       " 'itemsize',\n",
       " 'max',\n",
       " 'mean',\n",
       " 'min',\n",
       " 'nbytes',\n",
       " 'ndim',\n",
       " 'newbyteorder',\n",
       " 'nonzero',\n",
       " 'partition',\n",
       " 'prod',\n",
       " 'ptp',\n",
       " 'put',\n",
       " 'ravel',\n",
       " 'real',\n",
       " 'repeat',\n",
       " 'reshape',\n",
       " 'resize',\n",
       " 'round',\n",
       " 'searchsorted',\n",
       " 'setfield',\n",
       " 'setflags',\n",
       " 'shape',\n",
       " 'size',\n",
       " 'sort',\n",
       " 'squeeze',\n",
       " 'std',\n",
       " 'strides',\n",
       " 'sum',\n",
       " 'swapaxes',\n",
       " 'take',\n",
       " 'tobytes',\n",
       " 'tofile',\n",
       " 'tolist',\n",
       " 'tostring',\n",
       " 'trace',\n",
       " 'transpose',\n",
       " 'var',\n",
       " 'view']"
      ]
     },
     "execution_count": 4,
     "metadata": {},
     "output_type": "execute_result"
    }
   ],
   "source": [
    "dir(vetor)"
   ]
  },
  {
   "cell_type": "code",
   "execution_count": 6,
   "metadata": {},
   "outputs": [
    {
     "data": {
      "text/plain": [
       "(5,)"
      ]
     },
     "execution_count": 6,
     "metadata": {},
     "output_type": "execute_result"
    }
   ],
   "source": [
    "vetor.shape"
   ]
  },
  {
   "cell_type": "code",
   "execution_count": 7,
   "metadata": {},
   "outputs": [
    {
     "data": {
      "text/plain": [
       "5"
      ]
     },
     "execution_count": 7,
     "metadata": {},
     "output_type": "execute_result"
    }
   ],
   "source": [
    "vetor.size"
   ]
  },
  {
   "cell_type": "code",
   "execution_count": 8,
   "metadata": {},
   "outputs": [
    {
     "data": {
      "text/plain": [
       "dtype('int32')"
      ]
     },
     "execution_count": 8,
     "metadata": {},
     "output_type": "execute_result"
    }
   ],
   "source": [
    "vetor.dtype"
   ]
  },
  {
   "cell_type": "code",
   "execution_count": 9,
   "metadata": {},
   "outputs": [],
   "source": [
    "matrix = np.array([[1,3,4],[4,5,6],[6,7,8]])"
   ]
  },
  {
   "cell_type": "code",
   "execution_count": 12,
   "metadata": {},
   "outputs": [],
   "source": [
    "matrix2 = np.array([[1,3,4],[4,5,6],[6,7,8]])\n",
    "matrix1 = np.array([[5,3,4],[5,5,2],[1,4,8]])\n"
   ]
  },
  {
   "cell_type": "code",
   "execution_count": 13,
   "metadata": {},
   "outputs": [
    {
     "data": {
      "text/plain": [
       "array([[ 6,  6,  8],\n",
       "       [ 9, 10,  8],\n",
       "       [ 7, 11, 16]])"
      ]
     },
     "execution_count": 13,
     "metadata": {},
     "output_type": "execute_result"
    }
   ],
   "source": [
    "matrix1+matrix2"
   ]
  },
  {
   "cell_type": "code",
   "execution_count": 14,
   "metadata": {},
   "outputs": [
    {
     "data": {
      "text/plain": [
       "array([[20, 12, 16],\n",
       "       [20, 20,  8],\n",
       "       [ 4, 16, 32]])"
      ]
     },
     "execution_count": 14,
     "metadata": {},
     "output_type": "execute_result"
    }
   ],
   "source": [
    "constante = 4 \n",
    "matrix1 * constante"
   ]
  },
  {
   "cell_type": "code",
   "execution_count": 15,
   "metadata": {},
   "outputs": [
    {
     "data": {
      "text/plain": [
       "array([[41, 58, 70],\n",
       "       [37, 54, 66],\n",
       "       [65, 79, 92]])"
      ]
     },
     "execution_count": 15,
     "metadata": {},
     "output_type": "execute_result"
    }
   ],
   "source": [
    "np.dot(matrix1,matrix2)"
   ]
  },
  {
   "cell_type": "code",
   "execution_count": 16,
   "metadata": {},
   "outputs": [
    {
     "data": {
      "text/plain": [
       "array([[0., 0., 0.],\n",
       "       [0., 0., 0.],\n",
       "       [0., 0., 0.]])"
      ]
     },
     "execution_count": 16,
     "metadata": {},
     "output_type": "execute_result"
    }
   ],
   "source": [
    "np.zeros(shape = (3,3))"
   ]
  },
  {
   "cell_type": "code",
   "execution_count": 17,
   "metadata": {},
   "outputs": [
    {
     "data": {
      "text/plain": [
       "array([0., 0., 0., 0., 0., 0., 0., 0., 0., 0.])"
      ]
     },
     "execution_count": 17,
     "metadata": {},
     "output_type": "execute_result"
    }
   ],
   "source": [
    "np.zeros(shape=10)"
   ]
  },
  {
   "cell_type": "code",
   "execution_count": 18,
   "metadata": {},
   "outputs": [
    {
     "data": {
      "text/plain": [
       "array([[1., 0., 0.],\n",
       "       [0., 1., 0.],\n",
       "       [0., 0., 1.]])"
      ]
     },
     "execution_count": 18,
     "metadata": {},
     "output_type": "execute_result"
    }
   ],
   "source": [
    "np.identity(3)"
   ]
  },
  {
   "cell_type": "code",
   "execution_count": 23,
   "metadata": {},
   "outputs": [
    {
     "data": {
      "text/plain": [
       "array([  69,  365,  210,  188,  813,  716, 1612, 1559, 1827,  638, 1280,\n",
       "       1561,  206,  770,   82,  804, 1421,  116, 1184, 1925, 1488,  705,\n",
       "       1983, 1142, 1165, 1965,  178, 1240, 1849,  600, 1374,  902, 1365,\n",
       "       1125,  243, 1968,  395, 1850,   75, 1791,  743, 1666,  699, 1007,\n",
       "       1508,  196,  281,  381, 1239,  952, 1398,  659, 1203, 1612, 1163,\n",
       "        151,  826, 1866, 1558, 1780, 1964,  323,  558, 1324, 1810,  112,\n",
       "        576, 1160, 1574,  985,  317, 1949, 1952, 1176, 1994, 1078,  758,\n",
       "       1134,  972,  659, 1697, 1227, 1722,  146, 1245,  633,  927,  643,\n",
       "       1797,   87, 1767, 1189, 1342, 1241, 1480, 1065, 1477,  522,  384,\n",
       "       1292])"
      ]
     },
     "execution_count": 23,
     "metadata": {},
     "output_type": "execute_result"
    }
   ],
   "source": [
    " vetor=np.random.randint(low = 50,high = 2000,size = 100)\n",
    " vetor"
   ]
  },
  {
   "cell_type": "code",
   "execution_count": 24,
   "metadata": {},
   "outputs": [
    {
     "data": {
      "text/plain": [
       "100"
      ]
     },
     "execution_count": 24,
     "metadata": {},
     "output_type": "execute_result"
    }
   ],
   "source": [
    "vetor.size"
   ]
  },
  {
   "cell_type": "code",
   "execution_count": 25,
   "metadata": {},
   "outputs": [
    {
     "data": {
      "text/plain": [
       "69"
      ]
     },
     "execution_count": 25,
     "metadata": {},
     "output_type": "execute_result"
    }
   ],
   "source": [
    "vetor.min()"
   ]
  },
  {
   "cell_type": "code",
   "execution_count": 26,
   "metadata": {},
   "outputs": [
    {
     "data": {
      "text/plain": [
       "1994"
      ]
     },
     "execution_count": 26,
     "metadata": {},
     "output_type": "execute_result"
    }
   ],
   "source": [
    "vetor.max()"
   ]
  },
  {
   "cell_type": "code",
   "execution_count": 27,
   "metadata": {},
   "outputs": [
    {
     "data": {
      "text/plain": [
       "1058.95"
      ]
     },
     "execution_count": 27,
     "metadata": {},
     "output_type": "execute_result"
    }
   ],
   "source": [
    "vetor.mean()"
   ]
  },
  {
   "cell_type": "code",
   "execution_count": 28,
   "metadata": {},
   "outputs": [
    {
     "data": {
      "text/plain": [
       "584.7407694867873"
      ]
     },
     "execution_count": 28,
     "metadata": {},
     "output_type": "execute_result"
    }
   ],
   "source": [
    "vetor.std()"
   ]
  },
  {
   "cell_type": "code",
   "execution_count": 31,
   "metadata": {},
   "outputs": [],
   "source": [
    "vetor = np.random.normal(10,0.5,1000)"
   ]
  },
  {
   "cell_type": "code",
   "execution_count": 32,
   "metadata": {},
   "outputs": [
    {
     "data": {
      "text/plain": [
       "array([10.34389014,  9.71207276,  9.82834439, 10.4847689 ,  9.51425054,\n",
       "        9.65888322,  9.52532949,  9.36198539,  9.1698908 ,  9.95668873,\n",
       "       10.19706263, 10.39717668, 10.59873378,  9.29447007, 10.35205163,\n",
       "       10.37058531,  9.9474193 ,  9.7299288 , 10.27634378,  9.7668537 ,\n",
       "        9.8354908 , 10.06453923,  9.83598674,  9.69352439,  9.43868951,\n",
       "        9.90235032,  9.78432598,  8.87153523, 10.21393754,  9.43099787,\n",
       "        9.45643557,  9.58528019, 10.02485929,  9.01113254, 10.33004951,\n",
       "        9.50712614, 10.04580706, 10.65429523, 10.30044191,  9.75645923,\n",
       "        9.36996823, 10.25210375,  9.96285328,  8.87887476,  9.84079406,\n",
       "       10.08860882,  9.93904393,  9.59306911, 11.19883047,  9.40484989,\n",
       "       10.93335992,  9.97729725, 10.87543605, 10.13579507, 10.69745934,\n",
       "       10.0184595 ,  9.97573567,  9.6586491 ,  9.35250767,  9.73451293,\n",
       "        9.88184462,  9.63648494, 10.83777314, 11.02475981, 11.12404485,\n",
       "       11.23712124,  9.75778793,  9.66441966, 10.79185583,  9.67414611,\n",
       "        9.45096739, 10.4860081 , 10.52596972,  9.78026973,  9.83886336,\n",
       "        9.94847903,  9.39749288, 10.12798252,  9.90733338,  9.5516981 ,\n",
       "        9.58620456,  9.1181151 , 10.81191421, 10.70233207,  9.6811028 ,\n",
       "        9.836585  , 10.24430821, 10.46580478,  9.65477497, 10.18421374,\n",
       "        9.82853665, 10.09454986, 10.61851172, 10.48705741, 10.43600702,\n",
       "       11.50168595, 10.17414598,  9.71850002, 10.21988138, 10.1932131 ,\n",
       "       10.06900585,  9.87847057, 10.23511013, 10.09112836, 10.14277703,\n",
       "       10.64636166,  9.94101906,  9.54464542,  9.38629746,  9.95813422,\n",
       "       10.00409386, 10.06414566,  9.36754892, 10.87565525,  9.29214468,\n",
       "       10.08849483, 10.94685633,  9.35819203, 10.30008405,  9.2513805 ,\n",
       "       10.32674041, 10.75504975,  9.10102359, 10.51024384, 10.81292796,\n",
       "        9.80882224,  9.57763075,  9.88055518,  9.71609758, 10.11724449,\n",
       "       10.13717271, 10.94670707,  9.79929185,  9.4861853 ,  9.75345939,\n",
       "        9.70118422,  9.64255694,  8.80357733,  9.96217509,  9.52625452,\n",
       "        9.83325836,  9.82624742, 10.8236573 ,  9.81700313, 10.76352883,\n",
       "       10.03977255, 10.14591062,  9.67717781, 10.24320928,  9.80681834,\n",
       "       11.22922125, 10.06916181, 10.66863386, 10.1208466 , 10.52173161,\n",
       "        9.53924836,  9.63333855,  9.73350296, 10.17480378, 10.02899493,\n",
       "        9.82721573,  9.1403411 ,  9.20963492,  9.35541786, 10.58796718,\n",
       "       10.20427103, 10.03935515, 10.0852775 ,  9.88227202, 10.17066947,\n",
       "        9.34977056,  9.39020654,  9.58918263,  9.43934303, 10.5142353 ,\n",
       "       10.07949146,  9.90781696,  9.94744881,  9.6104169 ,  9.38211289,\n",
       "        9.70902123, 11.54622535, 10.01987795,  9.66008228,  9.22860457,\n",
       "        9.97782141,  9.96072138, 10.19983468, 10.1709044 , 10.78096549,\n",
       "       10.08225341,  9.37681154, 10.56569528,  8.4634061 ,  9.82162408,\n",
       "       10.03106897,  9.56091231, 10.63022965, 10.84504172, 10.3626851 ,\n",
       "        9.73323398,  9.57003755,  9.57358032, 10.30609012,  9.15985812,\n",
       "        9.49911429,  9.0100003 , 10.49805994,  9.65247232, 10.54455966,\n",
       "       10.24501837, 10.2063049 ,  9.36824828,  9.82444312, 10.43343628,\n",
       "       11.06658613, 10.52806988, 10.41302493, 10.09629257, 11.07047537,\n",
       "        9.5995433 , 10.46924508,  9.7645414 , 10.16626631, 10.9181177 ,\n",
       "       10.39030462, 11.06209739, 10.29972915,  9.60237096, 10.55201888,\n",
       "       10.67017722,  9.58748861,  9.91945708,  9.62234547,  9.69257738,\n",
       "        9.97320901,  9.52307743, 10.94588391,  9.56534182,  9.83840605,\n",
       "       10.01778169, 10.06284585,  9.79014397,  9.66766985, 10.44704417,\n",
       "        9.77276121, 10.41767546,  9.87224216, 10.25281144, 10.07097117,\n",
       "        9.90558254,  9.68907138,  9.98983693,  8.7506629 ,  9.47219671,\n",
       "       10.24343919, 10.66465297, 10.39392426,  9.72262774,  9.7525348 ,\n",
       "       11.34009321,  8.78059711,  9.56967708, 10.35790977,  9.27273817,\n",
       "        9.04870651,  9.22694727, 10.51171439, 10.68823251, 10.02973541,\n",
       "        9.55664388, 10.06640975,  9.22171577, 10.18208345, 10.26400258,\n",
       "       10.02246844,  9.65708754, 10.5094343 ,  9.11597844, 10.14418715,\n",
       "       10.54878698, 10.07955374, 10.30588111,  9.20123908,  9.95892088,\n",
       "        9.93208233, 10.47607802,  9.38094907,  9.84424665,  9.3787422 ,\n",
       "        9.63877541,  9.81546346, 10.14045781, 10.01759459, 10.30546502,\n",
       "       10.92837011,  9.9923049 ,  9.80860347, 10.41103186, 10.58172986,\n",
       "       10.04144593,  9.96314887,  9.69202337,  9.21655774, 10.30222976,\n",
       "        9.33625188,  9.3008224 , 10.87394507,  9.39184723,  9.89706293,\n",
       "       10.44257053, 10.48514653, 10.22177417,  9.65594579, 10.02495639,\n",
       "       10.17570012,  9.33621041,  9.89564193,  9.89991928, 10.09601316,\n",
       "       10.28858807,  9.98974472, 10.44744904, 10.36698584,  9.10721799,\n",
       "       10.28507314,  9.29278603,  9.76235182, 11.10483444, 11.37184466,\n",
       "       10.41128726,  9.57714143, 10.45643983,  8.81657155, 10.64937161,\n",
       "       10.06477912,  9.40074412,  9.51397792, 10.22979394, 10.19550947,\n",
       "        9.38881594, 10.39118184, 10.20045011, 11.41237967, 10.68104969,\n",
       "       10.18468904,  9.78390102,  9.48236168,  9.69851488, 10.66576573,\n",
       "       10.05229386,  9.47527334,  9.03113539, 10.44004778,  9.65940902,\n",
       "       10.59288192, 10.0950559 , 10.18381758,  9.87884874, 10.77730281,\n",
       "        9.79491426, 10.42097085, 10.16039707, 10.75447294,  9.56503779,\n",
       "       10.46939988,  9.40050949,  9.62550175,  9.67091858, 11.1301652 ,\n",
       "       10.64445144,  9.59644186, 10.49542286,  9.44617804, 10.69497796,\n",
       "        9.21412874, 10.63810218, 10.25512808, 10.12090418, 10.48534251,\n",
       "       10.47543516, 10.16158052, 10.01736963,  9.38742957, 10.23758642,\n",
       "        9.73953458,  9.84339764,  9.80814801, 10.31326052,  9.31556071,\n",
       "       10.07392559, 10.00377424,  9.86517529, 10.57931332, 10.56723308,\n",
       "        9.51301633, 10.6084669 ,  9.24870559,  9.19150104, 10.10064574,\n",
       "       10.14332264,  9.95488621,  9.68796422, 10.77076843,  9.51300591,\n",
       "        9.1105122 , 10.66899134, 10.05921546, 10.39709414,  9.72034717,\n",
       "        9.49948091,  9.69721151, 10.24757587,  9.12407296,  9.90368339,\n",
       "       10.12566061, 10.52977192,  9.97669062,  9.91726419, 10.38245118,\n",
       "       10.02578478, 10.84459041,  9.97981939, 10.47956948, 11.31199822,\n",
       "       10.15328649, 10.21203016, 10.19439879, 10.28424921, 10.26749611,\n",
       "       10.43953525,  9.50172112,  9.46023499, 10.21563024, 10.15392864,\n",
       "       10.51601309, 11.08380864, 10.24899214, 10.59908928, 10.2516809 ,\n",
       "        9.9069435 , 10.39452391,  9.54574819, 10.19327408,  9.9049473 ,\n",
       "        9.09223229,  9.27782134,  9.79668925, 10.33650456, 10.64640003,\n",
       "        9.94717941, 10.92005919, 10.0468255 , 10.65420516, 10.05503813,\n",
       "       10.06778618,  9.70708427, 10.04942435,  9.41933112,  9.27596696,\n",
       "        9.52265742, 10.59781669, 10.21528978, 10.17168013, 10.2059775 ,\n",
       "        9.94048933,  9.55075636,  9.44036058,  9.98251287, 10.57387695,\n",
       "        9.68180376, 10.01133885, 10.30084071, 10.74429515, 10.05268486,\n",
       "       10.0651294 ,  9.44936083,  8.71231536,  9.9492839 ,  9.86361771,\n",
       "        9.94310061,  9.93778032,  9.98556541, 10.1482608 ,  9.65091835,\n",
       "        9.43375983, 10.75212208, 10.23541827, 10.61326063,  9.64471603,\n",
       "       10.15363683,  9.82526229, 11.17131218, 10.77852728, 10.00862283,\n",
       "       10.09631077,  9.78974634,  9.77866038, 10.34133687,  9.63735482,\n",
       "       10.31717963, 10.38115606,  9.34041135, 10.02363433,  9.11453603,\n",
       "        9.99347806, 10.34042715, 10.19026507, 10.29773903, 10.26240495,\n",
       "       10.02271874, 10.13620969, 10.52290438,  8.77661734, 10.79342427,\n",
       "        9.63454741,  9.78725222, 10.52713061,  9.53027166,  9.24733795,\n",
       "        9.9503766 , 11.13702624, 10.9506703 , 10.4858643 , 10.57322821,\n",
       "        9.78822923, 10.04078381,  9.37889141,  9.9300025 ,  9.64412103,\n",
       "       10.80455659, 10.42395378, 10.04747039, 10.29920097, 11.80678587,\n",
       "       10.53622545, 10.12057602,  9.31357651,  9.57672931,  9.90297002,\n",
       "       10.32525686,  9.81876579, 10.44199777,  9.31402029, 10.44702842,\n",
       "       10.50888114, 10.35899182, 10.60686114, 10.11105105, 10.14606295,\n",
       "       10.62635564,  9.70366209,  9.89397836,  9.87899962,  8.78099317,\n",
       "        9.22314277, 10.39351079, 10.07197798, 10.65574167, 10.40828687,\n",
       "       10.10364875,  9.89858207, 11.14226263, 10.30002698,  9.85055694,\n",
       "        9.54768604, 10.3939815 ,  9.71997739,  9.40536114,  9.61415982,\n",
       "        9.95530183,  9.49299577,  9.81018424, 10.20914855,  9.60338584,\n",
       "        9.93700751,  9.82404974, 10.52202768,  9.78336938, 10.11712898,\n",
       "       10.30507625, 11.25113698, 10.07344221,  9.58283636,  9.88017295,\n",
       "       10.62924813, 10.16997795,  9.99251081, 10.2387754 ,  9.3064583 ,\n",
       "        9.76301713, 10.53791951, 10.21123232, 10.84671547,  9.75219754,\n",
       "       10.01581702, 10.83510772,  9.10328002,  9.79313638, 10.08942971,\n",
       "       10.12207389,  9.75390018,  9.76047048,  9.75736487,  9.94932192,\n",
       "       11.11697345, 10.25843408, 10.66442326,  9.52053681, 10.19904694,\n",
       "       10.23482757, 10.66449924, 10.18297106, 10.8349248 ,  9.81154944,\n",
       "        9.40722552, 10.67205995,  9.93836914,  9.93683272,  9.29262537,\n",
       "        9.37787282, 10.23391606,  9.87957476, 10.55128669, 10.06992921,\n",
       "        9.54688804,  9.58289169, 10.25223598, 10.46135667,  9.10359554,\n",
       "        9.78776489,  9.27836331, 10.85519029,  9.63816289, 10.79889408,\n",
       "        9.74726331,  9.99598089,  9.43748011, 10.13101037, 10.66389335,\n",
       "       10.33212278, 11.02190479,  9.57634839,  9.82240582,  9.48020917,\n",
       "       10.2692533 ,  9.75783094,  9.49239381,  9.2317523 ,  9.72074044,\n",
       "        9.79600743,  9.18042271, 10.62824012,  9.97975652, 10.72102669,\n",
       "        8.72861731,  9.75763799,  9.95273775, 10.3053658 , 10.48532376,\n",
       "       10.00639477, 10.06327717,  9.56031942, 10.21151098, 10.41372227,\n",
       "        9.49655221, 10.55908119, 10.04437217,  9.77797658,  9.86415405,\n",
       "        9.95910263,  9.96912776, 10.33768076,  9.42218099,  9.8833999 ,\n",
       "        9.1368837 ,  9.3630576 , 10.19818805, 10.32569283, 10.07945149,\n",
       "       10.06349446, 10.02544312,  9.61312512,  9.80950272,  9.79210473,\n",
       "        9.82664228,  9.36570625, 10.33355218, 10.28809327, 10.1915192 ,\n",
       "        9.63291066, 10.00674856, 10.20923633, 10.0515813 , 10.40342427,\n",
       "        9.87438359, 10.43777431,  9.97942466, 10.85889887, 10.17088966,\n",
       "       10.5881594 ,  9.80684835,  9.8357259 , 10.05508539,  9.64555417,\n",
       "        9.60888048, 10.02215693,  9.11021474, 10.4330531 , 10.17826109,\n",
       "        9.92116417,  9.93854052, 10.48542118, 10.05890315,  9.83584168,\n",
       "       10.34633111,  9.52632258, 10.36696242, 11.10269812,  9.84263471,\n",
       "        9.24262434,  9.80435675, 10.28739127,  9.90013224, 10.51766545,\n",
       "       10.37603754, 10.63077353, 10.5727233 ,  9.36634689,  9.82610393,\n",
       "        9.36862861, 10.10829924, 10.1450528 , 10.03942664,  9.73982868,\n",
       "       11.07258426, 10.69928097,  9.8182181 , 10.02767792, 10.05048763,\n",
       "        9.84801728,  9.44009315, 10.25964913,  9.66715609,  9.09195441,\n",
       "        9.85370728,  9.54864464, 10.94772726, 10.24771776, 10.15020254,\n",
       "       10.24902048, 10.92514487, 10.19913902, 10.22323271,  9.7336303 ,\n",
       "        9.34730526, 10.17093192,  9.99416377,  9.38421825,  8.92333913,\n",
       "        9.6702085 ,  9.63895234, 10.32436097,  9.91184247,  8.8408738 ,\n",
       "        9.32889217,  9.90533879, 10.03901337, 10.96555856, 10.92907385,\n",
       "        9.78910631,  9.34479169,  9.77649617,  9.73647749,  9.74840819,\n",
       "       10.06595261,  9.19613204,  9.91738854,  9.23859961, 10.49764456,\n",
       "        9.28707507,  9.98502863,  8.65095763,  9.79081607, 10.3140757 ,\n",
       "        9.77599918, 10.12657119,  9.75118368,  9.25341772, 10.08445361,\n",
       "        9.55418033,  9.99759171, 10.5722057 ,  9.7717501 ,  9.75433998,\n",
       "       10.30068589,  9.76388084,  8.50127978, 10.52862274,  9.78283063,\n",
       "        9.56592397, 10.24339443,  9.59450803,  8.96649632,  9.15530366,\n",
       "        9.31655227, 10.74384027,  9.87492149,  9.49636973,  8.64927341,\n",
       "       10.12577912,  9.87384259,  9.66069258, 10.96997591, 11.20760339,\n",
       "        9.2021901 ,  9.77897606,  9.93296963, 10.48619413,  9.74877428,\n",
       "       10.89909043, 10.08315861, 10.03177668,  9.47956503,  9.62462968,\n",
       "       10.09169932, 10.63300896, 10.80654352,  9.61887669,  9.55581511,\n",
       "       10.24385623,  9.78315001, 10.44053097, 10.32453483, 10.17474161,\n",
       "        9.56590268,  9.97944624, 10.5172066 , 10.40749774,  8.96448518,\n",
       "       10.109799  , 10.44682086,  9.86688663, 11.44893684,  9.64947134,\n",
       "       10.7040342 , 10.14670388, 10.70749135,  9.33689263, 10.01977673,\n",
       "        9.87498552,  9.41043771, 10.67610484, 10.53796753,  9.82103447,\n",
       "       10.499628  , 10.67739003, 10.11118854,  9.70849822,  9.25008807,\n",
       "        9.38838215, 10.02422163,  9.99428151,  9.79925534,  9.70411178,\n",
       "       10.50650665, 10.12529114, 10.30410227, 10.24755756, 10.71386561,\n",
       "        9.58560795, 10.44529818, 10.2210322 ,  9.4300668 ,  9.06699775,\n",
       "       10.10844413,  8.50113977,  9.94411618,  9.43472784,  9.98702197,\n",
       "        9.28937253, 10.37545536, 10.73377503,  9.80176292,  9.80971834,\n",
       "        9.76629775, 10.15492687,  9.19989701, 10.26536569,  8.95646944,\n",
       "        9.78939097, 10.37533099, 10.16345088, 10.17130007,  9.81487784,\n",
       "       10.57295051, 10.14225929,  9.84749985,  9.9493542 ,  9.35713067,\n",
       "        9.43278126,  9.94699268, 10.53466715, 10.32739313,  9.90564141,\n",
       "       10.2881891 ,  9.47389226, 11.15318514, 10.84452439,  9.7060933 ,\n",
       "       10.14321366,  9.78103257, 10.74902145, 10.74744866,  9.89607109,\n",
       "        9.76810399, 10.73036614,  9.98228182,  9.953517  , 10.36257141,\n",
       "        9.896025  ,  9.90559807,  9.47997314, 10.57715546, 10.6984628 ,\n",
       "       10.59248667, 10.3046281 , 10.55683891, 10.02189011, 10.42290659,\n",
       "        9.67766993, 10.03514545, 10.41640295,  9.76350524,  9.77625376,\n",
       "        9.39163479, 10.13554979, 10.30941232, 10.2998652 , 10.15624133,\n",
       "       10.7976204 ,  9.96965285,  9.42950413,  9.11933922, 10.22252714,\n",
       "       10.26269258,  9.64458888, 10.51720932, 10.4682275 ,  9.74811821,\n",
       "       10.13219086, 10.09331907,  9.60653876, 10.23757596, 10.11821582,\n",
       "        9.03952503,  9.69198341,  9.87545248, 10.28259565, 10.24738889,\n",
       "       10.71259093,  9.90709105,  9.77126497,  9.58398825,  9.87922904,\n",
       "        9.35741292, 10.04701992,  9.91408692,  9.76130984, 10.0043637 ,\n",
       "       10.67467019,  9.97990061, 10.16051751,  9.2664229 ,  9.67265953,\n",
       "        9.63777292,  9.48938818,  9.29081188, 10.58347015,  9.51140195,\n",
       "       10.73559654, 10.42907604, 10.17901525, 10.50342424,  9.26952889,\n",
       "        9.82427473,  8.92572717,  9.84097996,  9.96653882, 10.21877514,\n",
       "        9.77134086, 10.32057025,  9.56604114, 10.5663023 ,  9.21607502,\n",
       "        9.1574831 , 10.3555538 , 10.84789488,  9.7319635 , 10.22189815])"
      ]
     },
     "execution_count": 32,
     "metadata": {},
     "output_type": "execute_result"
    }
   ],
   "source": [
    "vetor"
   ]
  },
  {
   "cell_type": "code",
   "execution_count": 34,
   "metadata": {},
   "outputs": [],
   "source": [
    "import matplotlib.pyplot as plt"
   ]
  },
  {
   "cell_type": "code",
   "execution_count": 36,
   "metadata": {},
   "outputs": [
    {
     "data": {
      "image/png": "[encoded data removed]",
      "text/plain": [
       "<Figure size 640x480 with 1 Axes>"
      ]
     },
     "metadata": {},
     "output_type": "display_data"
    }
   ],
   "source": [
    "plt.plot(vetor)\n",
    "plt.show()"
   ]
  },
  {
   "cell_type": "code",
   "execution_count": 38,
   "metadata": {},
   "outputs": [],
   "source": [
    "import seaborn as sns"
   ]
  },
  {
   "cell_type": "code",
   "execution_count": 40,
   "metadata": {},
   "outputs": [
    {
     "data": {
      "image/png": "[encoded data removed]",
      "text/plain": [
       "<Figure size 640x480 with 1 Axes>"
      ]
     },
     "metadata": {},
     "output_type": "display_data"
    }
   ],
   "source": [
    "sns.histplot(vetor)\n",
    "plt.show()"
   ]
  },
  {
   "cell_type": "code",
   "execution_count": 41,
   "metadata": {},
   "outputs": [],
   "source": [
    "matrix= np.random.normal(10,2.5,size =(4,3))"
   ]
  },
  {
   "cell_type": "code",
   "execution_count": 42,
   "metadata": {},
   "outputs": [
    {
     "data": {
      "text/plain": [
       "array([[13.8537853 , 13.49952338, 10.30753703],\n",
       "       [13.62962359, 11.44459907,  5.51716978],\n",
       "       [12.4153578 , 12.15748669, 11.22652442],\n",
       "       [10.85093416, 11.90910402, 14.0813773 ]])"
      ]
     },
     "execution_count": 42,
     "metadata": {},
     "output_type": "execute_result"
    }
   ],
   "source": [
    "matrix"
   ]
  },
  {
   "cell_type": "code",
   "execution_count": 43,
   "metadata": {},
   "outputs": [
    {
     "data": {
      "text/plain": [
       "<AxesSubplot:ylabel='Count'>"
      ]
     },
     "execution_count": 43,
     "metadata": {},
     "output_type": "execute_result"
    },
    {
     "data": {
      "image/png": "[encoded data removed]",
      "text/plain": [
       "<Figure size 640x480 with 1 Axes>"
      ]
     },
     "metadata": {},
     "output_type": "display_data"
    }
   ],
   "source": [
    "sns.histplot(matrix)"
   ]
  },
  {
   "cell_type": "code",
   "execution_count": 44,
   "metadata": {},
   "outputs": [
    {
     "data": {
      "text/plain": [
       "[<matplotlib.lines.Line2D at 0x1f4e56b78e0>,\n",
       " <matplotlib.lines.Line2D at 0x1f4e56b7940>,\n",
       " <matplotlib.lines.Line2D at 0x1f4e56b7a60>]"
      ]
     },
     "execution_count": 44,
     "metadata": {},
     "output_type": "execute_result"
    },
    {
     "data": {
      "image/png": "[encoded data removed]",
      "text/plain": [
       "<Figure size 640x480 with 1 Axes>"
      ]
     },
     "metadata": {},
     "output_type": "display_data"
    }
   ],
   "source": [
    "plt.plot(matrix)"
   ]
  },
  {
   "cell_type": "code",
   "execution_count": null,
   "metadata": {},
   "outputs": [],
   "source": []
  }
 ],
 "metadata": {
  "kernelspec": {
   "display_name": "Python 3.10.6 64-bit",
   "language": "python",
   "name": "python3"
  },
  "language_info": {
   "codemirror_mode": {
    "name": "ipython",
    "version": 3
   },
   "file_extension": ".py",
   "mimetype": "text/x-python",
   "name": "python",
   "nbconvert_exporter": "python",
   "pygments_lexer": "ipython3",
   "version": "3.10.6"
  },
  "orig_nbformat": 4,
  "vscode": {
   "interpreter": {
    "hash": "369f2c481f4da34e4445cda3fffd2e751bd1c4d706f27375911949ba6bb62e1c"
   }
  }
 },
 "nbformat": 4,
 "nbformat_minor": 2
}
