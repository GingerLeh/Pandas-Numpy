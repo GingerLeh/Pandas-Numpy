{
 "cells": [
  {
   "cell_type": "code",
   "execution_count": 29,
   "metadata": {},
   "outputs": [],
   "source": [
    "import yfinance as yf\n",
    "import pandas as pd\n",
    "import quandl \n",
    "import numpy as np\n",
    "import matplotlib.pyplot as plt"
   ]
  },
  {
   "cell_type": "code",
   "execution_count": 30,
   "metadata": {},
   "outputs": [],
   "source": [
    "desemprego = pd.read_csv('./materiais/STP-20220317102940796.csv', encoding='latin1', sep=';')"
   ]
  },
  {
   "cell_type": "code",
   "execution_count": 31,
   "metadata": {},
   "outputs": [
    {
     "data": {
      "text/html": [
       "<div>\n",
       "<style scoped>\n",
       "    .dataframe tbody tr th:only-of-type {\n",
       "        vertical-align: middle;\n",
       "    }\n",
       "\n",
       "    .dataframe tbody tr th {\n",
       "        vertical-align: top;\n",
       "    }\n",
       "\n",
       "    .dataframe thead th {\n",
       "        text-align: right;\n",
       "    }\n",
       "</style>\n",
       "<table border=\"1\" class=\"dataframe\">\n",
       "  <thead>\n",
       "    <tr style=\"text-align: right;\">\n",
       "      <th></th>\n",
       "      <th>Data</th>\n",
       "      <th>24369 - Taxa de desocupação - PNADC - %</th>\n",
       "      <th>24371 - Empregados no setor privado e público - PNADC - Unidades (mil)</th>\n",
       "      <th>24372 - Empregados no setor público - PNADC - Unidades (mil)</th>\n",
       "      <th>24373 - Empregado por conta própria - PNADC - Unidades (mil)</th>\n",
       "      <th>24375 - Empregados no setor privado - Com carteira - PNADC - Unidades (mil)</th>\n",
       "      <th>24376 - Empregados no setor privado - Sem Carteira - PNADC - Unidades (mil)</th>\n",
       "      <th>24377 - Empregados no setor privado - Total - PNADC - Unidades (mil)</th>\n",
       "    </tr>\n",
       "  </thead>\n",
       "  <tbody>\n",
       "    <tr>\n",
       "      <th>0</th>\n",
       "      <td>03/2012</td>\n",
       "      <td>8,0</td>\n",
       "      <td>62.105</td>\n",
       "      <td>10.767</td>\n",
       "      <td>20.174</td>\n",
       "      <td>34.262</td>\n",
       "      <td>11.122</td>\n",
       "      <td>45.384</td>\n",
       "    </tr>\n",
       "    <tr>\n",
       "      <th>1</th>\n",
       "      <td>04/2012</td>\n",
       "      <td>7,8</td>\n",
       "      <td>62.586</td>\n",
       "      <td>10.884</td>\n",
       "      <td>20.205</td>\n",
       "      <td>34.574</td>\n",
       "      <td>11.180</td>\n",
       "      <td>45.754</td>\n",
       "    </tr>\n",
       "    <tr>\n",
       "      <th>2</th>\n",
       "      <td>05/2012</td>\n",
       "      <td>7,7</td>\n",
       "      <td>62.927</td>\n",
       "      <td>10.925</td>\n",
       "      <td>20.165</td>\n",
       "      <td>34.759</td>\n",
       "      <td>11.244</td>\n",
       "      <td>46.003</td>\n",
       "    </tr>\n",
       "    <tr>\n",
       "      <th>3</th>\n",
       "      <td>06/2012</td>\n",
       "      <td>7,6</td>\n",
       "      <td>63.299</td>\n",
       "      <td>11.031</td>\n",
       "      <td>19.930</td>\n",
       "      <td>35.004</td>\n",
       "      <td>11.265</td>\n",
       "      <td>46.269</td>\n",
       "    </tr>\n",
       "    <tr>\n",
       "      <th>4</th>\n",
       "      <td>07/2012</td>\n",
       "      <td>7,5</td>\n",
       "      <td>63.523</td>\n",
       "      <td>11.119</td>\n",
       "      <td>19.843</td>\n",
       "      <td>35.120</td>\n",
       "      <td>11.293</td>\n",
       "      <td>46.413</td>\n",
       "    </tr>\n",
       "  </tbody>\n",
       "</table>\n",
       "</div>"
      ],
      "text/plain": [
       "      Data 24369 - Taxa de desocupação - PNADC - %  \\\n",
       "0  03/2012                                    8,0    \n",
       "1  04/2012                                    7,8    \n",
       "2  05/2012                                    7,7    \n",
       "3  06/2012                                    7,6    \n",
       "4  07/2012                                    7,5    \n",
       "\n",
       "  24371 - Empregados no setor privado e público - PNADC - Unidades (mil)  \\\n",
       "0                                            62.105                        \n",
       "1                                            62.586                        \n",
       "2                                            62.927                        \n",
       "3                                            63.299                        \n",
       "4                                            63.523                        \n",
       "\n",
       "  24372 - Empregados no setor público - PNADC - Unidades (mil)  \\\n",
       "0                                            10.767              \n",
       "1                                            10.884              \n",
       "2                                            10.925              \n",
       "3                                            11.031              \n",
       "4                                            11.119              \n",
       "\n",
       "  24373 - Empregado por conta própria - PNADC - Unidades (mil)  \\\n",
       "0                                            20.174              \n",
       "1                                            20.205              \n",
       "2                                            20.165              \n",
       "3                                            19.930              \n",
       "4                                            19.843              \n",
       "\n",
       "  24375 - Empregados no setor privado - Com carteira - PNADC - Unidades (mil)  \\\n",
       "0                                            34.262                             \n",
       "1                                            34.574                             \n",
       "2                                            34.759                             \n",
       "3                                            35.004                             \n",
       "4                                            35.120                             \n",
       "\n",
       "  24376 - Empregados no setor privado - Sem Carteira - PNADC - Unidades (mil)  \\\n",
       "0                                            11.122                             \n",
       "1                                            11.180                             \n",
       "2                                            11.244                             \n",
       "3                                            11.265                             \n",
       "4                                            11.293                             \n",
       "\n",
       "  24377 - Empregados no setor privado - Total - PNADC - Unidades (mil)  \n",
       "0                                             45.384                    \n",
       "1                                             45.754                    \n",
       "2                                             46.003                    \n",
       "3                                             46.269                    \n",
       "4                                             46.413                    "
      ]
     },
     "execution_count": 31,
     "metadata": {},
     "output_type": "execute_result"
    }
   ],
   "source": [
    "desemprego.head()"
   ]
  },
  {
   "cell_type": "code",
   "execution_count": 32,
   "metadata": {},
   "outputs": [
    {
     "data": {
      "text/plain": [
       "['Data',\n",
       " '24369 - Taxa de desocupação - PNADC - %',\n",
       " '24371 - Empregados no setor privado e público - PNADC - Unidades (mil)',\n",
       " '24372 - Empregados no setor público - PNADC - Unidades (mil)',\n",
       " '24373 - Empregado por conta própria - PNADC - Unidades (mil)',\n",
       " '24375 - Empregados no setor privado - Com carteira - PNADC - Unidades (mil)',\n",
       " '24376 - Empregados no setor privado - Sem Carteira - PNADC - Unidades (mil)',\n",
       " '24377 - Empregados no setor privado - Total - PNADC - Unidades (mil)']"
      ]
     },
     "execution_count": 32,
     "metadata": {},
     "output_type": "execute_result"
    }
   ],
   "source": [
    "desemprego.columns.tolist()"
   ]
  },
  {
   "cell_type": "code",
   "execution_count": 33,
   "metadata": {},
   "outputs": [
    {
     "data": {
      "text/plain": [
       "Data                                                                           object\n",
       "24369 - Taxa de desocupação - PNADC - %                                        object\n",
       "24371 - Empregados no setor privado e público - PNADC - Unidades (mil)         object\n",
       "24372 - Empregados no setor público - PNADC - Unidades (mil)                   object\n",
       "24373 - Empregado por conta própria - PNADC - Unidades (mil)                   object\n",
       "24375 - Empregados no setor privado - Com carteira - PNADC - Unidades (mil)    object\n",
       "24376 - Empregados no setor privado - Sem Carteira - PNADC - Unidades (mil)    object\n",
       "24377 - Empregados no setor privado - Total - PNADC - Unidades (mil)           object\n",
       "dtype: object"
      ]
     },
     "execution_count": 33,
     "metadata": {},
     "output_type": "execute_result"
    }
   ],
   "source": [
    "desemprego.dtypes"
   ]
  },
  {
   "cell_type": "code",
   "execution_count": 34,
   "metadata": {},
   "outputs": [],
   "source": [
    "columns = desemprego.columns.to_list()\n",
    "desemprego.rename(\n",
    "    columns={\n",
    "        columns[1]:'Taxa de desocupação',\n",
    "        columns[2]:'Empregados no setor privado e público',\n",
    "        columns[3]:'Empregados no setor público',\n",
    "        columns[4]:'Empregados por conta própria',\n",
    "        columns[5]:'Empregados no setor privado - com carteira',\n",
    "        columns[6]:'Empregados no setor privado - sem carteira',\n",
    "        columns[7]:'Empregados no setor privado - total'\n",
    "    }, \n",
    "    inplace= True\n",
    ")"
   ]
  },
  {
   "cell_type": "code",
   "execution_count": 35,
   "metadata": {},
   "outputs": [
    {
     "data": {
      "text/html": [
       "<div>\n",
       "<style scoped>\n",
       "    .dataframe tbody tr th:only-of-type {\n",
       "        vertical-align: middle;\n",
       "    }\n",
       "\n",
       "    .dataframe tbody tr th {\n",
       "        vertical-align: top;\n",
       "    }\n",
       "\n",
       "    .dataframe thead th {\n",
       "        text-align: right;\n",
       "    }\n",
       "</style>\n",
       "<table border=\"1\" class=\"dataframe\">\n",
       "  <thead>\n",
       "    <tr style=\"text-align: right;\">\n",
       "      <th></th>\n",
       "      <th>Data</th>\n",
       "      <th>Taxa de desocupação</th>\n",
       "      <th>Empregados no setor privado e público</th>\n",
       "      <th>Empregados no setor público</th>\n",
       "      <th>Empregados por conta própria</th>\n",
       "      <th>Empregados no setor privado - com carteira</th>\n",
       "      <th>Empregados no setor privado - sem carteira</th>\n",
       "      <th>Empregados no setor privado - total</th>\n",
       "    </tr>\n",
       "  </thead>\n",
       "  <tbody>\n",
       "    <tr>\n",
       "      <th>114</th>\n",
       "      <td>09/2021</td>\n",
       "      <td>12,6</td>\n",
       "      <td>61.724</td>\n",
       "      <td>11.168</td>\n",
       "      <td>25.461</td>\n",
       "      <td>33.508</td>\n",
       "      <td>11.691</td>\n",
       "      <td>45.199</td>\n",
       "    </tr>\n",
       "    <tr>\n",
       "      <th>115</th>\n",
       "      <td>10/2021</td>\n",
       "      <td>12,1</td>\n",
       "      <td>62.497</td>\n",
       "      <td>11.152</td>\n",
       "      <td>25.638</td>\n",
       "      <td>33.876</td>\n",
       "      <td>11.956</td>\n",
       "      <td>45.832</td>\n",
       "    </tr>\n",
       "    <tr>\n",
       "      <th>116</th>\n",
       "      <td>11/2021</td>\n",
       "      <td>11,6</td>\n",
       "      <td>63.287</td>\n",
       "      <td>11.275</td>\n",
       "      <td>25.841</td>\n",
       "      <td>34.224</td>\n",
       "      <td>12.179</td>\n",
       "      <td>46.403</td>\n",
       "    </tr>\n",
       "    <tr>\n",
       "      <th>117</th>\n",
       "      <td>12/2021</td>\n",
       "      <td>11,1</td>\n",
       "      <td>64.010</td>\n",
       "      <td>11.375</td>\n",
       "      <td>25.944</td>\n",
       "      <td>34.495</td>\n",
       "      <td>12.443</td>\n",
       "      <td>46.938</td>\n",
       "    </tr>\n",
       "    <tr>\n",
       "      <th>118</th>\n",
       "      <td>Fonte</td>\n",
       "      <td>IBGE</td>\n",
       "      <td>IBGE</td>\n",
       "      <td>IBGE</td>\n",
       "      <td>IBGE</td>\n",
       "      <td>IBGE</td>\n",
       "      <td>IBGE</td>\n",
       "      <td>IBGE</td>\n",
       "    </tr>\n",
       "  </tbody>\n",
       "</table>\n",
       "</div>"
      ],
      "text/plain": [
       "        Data Taxa de desocupação Empregados no setor privado e público  \\\n",
       "114  09/2021               12,6                                61.724    \n",
       "115  10/2021               12,1                                62.497    \n",
       "116  11/2021               11,6                                63.287    \n",
       "117  12/2021               11,1                                64.010    \n",
       "118    Fonte                IBGE                                  IBGE   \n",
       "\n",
       "    Empregados no setor público Empregados por conta própria  \\\n",
       "114                     11.168                       25.461    \n",
       "115                     11.152                       25.638    \n",
       "116                     11.275                       25.841    \n",
       "117                     11.375                       25.944    \n",
       "118                        IBGE                         IBGE   \n",
       "\n",
       "    Empregados no setor privado - com carteira  \\\n",
       "114                                    33.508    \n",
       "115                                    33.876    \n",
       "116                                    34.224    \n",
       "117                                    34.495    \n",
       "118                                       IBGE   \n",
       "\n",
       "    Empregados no setor privado - sem carteira  \\\n",
       "114                                    11.691    \n",
       "115                                    11.956    \n",
       "116                                    12.179    \n",
       "117                                    12.443    \n",
       "118                                       IBGE   \n",
       "\n",
       "    Empregados no setor privado - total  \n",
       "114                              45.199  \n",
       "115                              45.832  \n",
       "116                              46.403  \n",
       "117                              46.938  \n",
       "118                                IBGE  "
      ]
     },
     "execution_count": 35,
     "metadata": {},
     "output_type": "execute_result"
    }
   ],
   "source": [
    "desemprego.tail()"
   ]
  },
  {
   "cell_type": "code",
   "execution_count": 36,
   "metadata": {},
   "outputs": [],
   "source": [
    "desemprego.drop(desemprego.query('Data == \"Fonte\"').index, inplace=True)"
   ]
  },
  {
   "cell_type": "code",
   "execution_count": 37,
   "metadata": {},
   "outputs": [
    {
     "data": {
      "text/plain": [
       "Data                                          object\n",
       "Taxa de desocupação                           object\n",
       "Empregados no setor privado e público         object\n",
       "Empregados no setor público                   object\n",
       "Empregados por conta própria                  object\n",
       "Empregados no setor privado - com carteira    object\n",
       "Empregados no setor privado - sem carteira    object\n",
       "Empregados no setor privado - total           object\n",
       "dtype: object"
      ]
     },
     "execution_count": 37,
     "metadata": {},
     "output_type": "execute_result"
    }
   ],
   "source": [
    "desemprego.dtypes"
   ]
  },
  {
   "cell_type": "code",
   "execution_count": 38,
   "metadata": {},
   "outputs": [],
   "source": [
    "desemprego.Data = pd.to_datetime(desemprego.Data, format='%m/%Y')"
   ]
  },
  {
   "cell_type": "code",
   "execution_count": 39,
   "metadata": {},
   "outputs": [],
   "source": [
    "for coluna in desemprego.select_dtypes(object):\n",
    "    if coluna == 'Taxa de desocupação':\n",
    "        desemprego[coluna] = desemprego[coluna].str.replace(',','.').astype(float)\n",
    "    else:\n",
    "        desemprego[coluna] = desemprego[coluna].astype(float)\n"
   ]
  },
  {
   "cell_type": "code",
   "execution_count": 40,
   "metadata": {},
   "outputs": [
    {
     "data": {
      "text/plain": [
       "Data                                          datetime64[ns]\n",
       "Taxa de desocupação                                  float64\n",
       "Empregados no setor privado e público                float64\n",
       "Empregados no setor público                          float64\n",
       "Empregados por conta própria                         float64\n",
       "Empregados no setor privado - com carteira           float64\n",
       "Empregados no setor privado - sem carteira           float64\n",
       "Empregados no setor privado - total                  float64\n",
       "dtype: object"
      ]
     },
     "execution_count": 40,
     "metadata": {},
     "output_type": "execute_result"
    }
   ],
   "source": [
    "desemprego.dtypes"
   ]
  },
  {
   "cell_type": "code",
   "execution_count": 41,
   "metadata": {},
   "outputs": [
    {
     "data": {
      "text/html": [
       "<div>\n",
       "<style scoped>\n",
       "    .dataframe tbody tr th:only-of-type {\n",
       "        vertical-align: middle;\n",
       "    }\n",
       "\n",
       "    .dataframe tbody tr th {\n",
       "        vertical-align: top;\n",
       "    }\n",
       "\n",
       "    .dataframe thead th {\n",
       "        text-align: right;\n",
       "    }\n",
       "</style>\n",
       "<table border=\"1\" class=\"dataframe\">\n",
       "  <thead>\n",
       "    <tr style=\"text-align: right;\">\n",
       "      <th></th>\n",
       "      <th>Data</th>\n",
       "      <th>Taxa de desocupação</th>\n",
       "      <th>Empregados no setor privado e público</th>\n",
       "      <th>Empregados no setor público</th>\n",
       "      <th>Empregados por conta própria</th>\n",
       "      <th>Empregados no setor privado - com carteira</th>\n",
       "      <th>Empregados no setor privado - sem carteira</th>\n",
       "      <th>Empregados no setor privado - total</th>\n",
       "    </tr>\n",
       "  </thead>\n",
       "  <tbody>\n",
       "    <tr>\n",
       "      <th>0</th>\n",
       "      <td>2012-03-01</td>\n",
       "      <td>8.0</td>\n",
       "      <td>62.105</td>\n",
       "      <td>10.767</td>\n",
       "      <td>20.174</td>\n",
       "      <td>34.262</td>\n",
       "      <td>11.122</td>\n",
       "      <td>45.384</td>\n",
       "    </tr>\n",
       "    <tr>\n",
       "      <th>1</th>\n",
       "      <td>2012-04-01</td>\n",
       "      <td>7.8</td>\n",
       "      <td>62.586</td>\n",
       "      <td>10.884</td>\n",
       "      <td>20.205</td>\n",
       "      <td>34.574</td>\n",
       "      <td>11.180</td>\n",
       "      <td>45.754</td>\n",
       "    </tr>\n",
       "    <tr>\n",
       "      <th>2</th>\n",
       "      <td>2012-05-01</td>\n",
       "      <td>7.7</td>\n",
       "      <td>62.927</td>\n",
       "      <td>10.925</td>\n",
       "      <td>20.165</td>\n",
       "      <td>34.759</td>\n",
       "      <td>11.244</td>\n",
       "      <td>46.003</td>\n",
       "    </tr>\n",
       "    <tr>\n",
       "      <th>3</th>\n",
       "      <td>2012-06-01</td>\n",
       "      <td>7.6</td>\n",
       "      <td>63.299</td>\n",
       "      <td>11.031</td>\n",
       "      <td>19.930</td>\n",
       "      <td>35.004</td>\n",
       "      <td>11.265</td>\n",
       "      <td>46.269</td>\n",
       "    </tr>\n",
       "    <tr>\n",
       "      <th>4</th>\n",
       "      <td>2012-07-01</td>\n",
       "      <td>7.5</td>\n",
       "      <td>63.523</td>\n",
       "      <td>11.119</td>\n",
       "      <td>19.843</td>\n",
       "      <td>35.120</td>\n",
       "      <td>11.293</td>\n",
       "      <td>46.413</td>\n",
       "    </tr>\n",
       "  </tbody>\n",
       "</table>\n",
       "</div>"
      ],
      "text/plain": [
       "        Data  Taxa de desocupação  Empregados no setor privado e público  \\\n",
       "0 2012-03-01                  8.0                                 62.105   \n",
       "1 2012-04-01                  7.8                                 62.586   \n",
       "2 2012-05-01                  7.7                                 62.927   \n",
       "3 2012-06-01                  7.6                                 63.299   \n",
       "4 2012-07-01                  7.5                                 63.523   \n",
       "\n",
       "   Empregados no setor público  Empregados por conta própria  \\\n",
       "0                       10.767                        20.174   \n",
       "1                       10.884                        20.205   \n",
       "2                       10.925                        20.165   \n",
       "3                       11.031                        19.930   \n",
       "4                       11.119                        19.843   \n",
       "\n",
       "   Empregados no setor privado - com carteira  \\\n",
       "0                                      34.262   \n",
       "1                                      34.574   \n",
       "2                                      34.759   \n",
       "3                                      35.004   \n",
       "4                                      35.120   \n",
       "\n",
       "   Empregados no setor privado - sem carteira  \\\n",
       "0                                      11.122   \n",
       "1                                      11.180   \n",
       "2                                      11.244   \n",
       "3                                      11.265   \n",
       "4                                      11.293   \n",
       "\n",
       "   Empregados no setor privado - total  \n",
       "0                               45.384  \n",
       "1                               45.754  \n",
       "2                               46.003  \n",
       "3                               46.269  \n",
       "4                               46.413  "
      ]
     },
     "execution_count": 41,
     "metadata": {},
     "output_type": "execute_result"
    }
   ],
   "source": [
    "desemprego.head()"
   ]
  },
  {
   "cell_type": "code",
   "execution_count": 42,
   "metadata": {},
   "outputs": [],
   "source": [
    "desemprego.set_index('Data', inplace=True)"
   ]
  },
  {
   "cell_type": "code",
   "execution_count": 43,
   "metadata": {},
   "outputs": [
    {
     "data": {
      "text/plain": [
       "<AxesSubplot:xlabel='Data'>"
      ]
     },
     "execution_count": 43,
     "metadata": {},
     "output_type": "execute_result"
    },
    {
     "data": {
      "image/png": "[encoded data removed]",
      "text/plain": [
       "<Figure size 640x480 with 1 Axes>"
      ]
     },
     "metadata": {},
     "output_type": "display_data"
    }
   ],
   "source": [
    "desemprego['Taxa de desocupação'].plot()"
   ]
  },
  {
   "cell_type": "code",
   "execution_count": 44,
   "metadata": {},
   "outputs": [
    {
     "data": {
      "text/plain": [
       "<AxesSubplot:xlabel='Data'>"
      ]
     },
     "execution_count": 44,
     "metadata": {},
     "output_type": "execute_result"
    },
    {
     "data": {
      "image/png": "[encoded data removed]",
      "text/plain": [
       "<Figure size 640x480 with 1 Axes>"
      ]
     },
     "metadata": {},
     "output_type": "display_data"
    }
   ],
   "source": [
    "desemprego['Taxa de desocupação'].resample('Y').agg(np.mean).plot()"
   ]
  },
  {
   "cell_type": "code",
   "execution_count": 45,
   "metadata": {},
   "outputs": [
    {
     "data": {
      "text/plain": [
       "<AxesSubplot:xlabel='Data'>"
      ]
     },
     "execution_count": 45,
     "metadata": {},
     "output_type": "execute_result"
    },
    {
     "data": {
      "image/png": "[encoded data removed]",
      "text/plain": [
       "<Figure size 640x480 with 1 Axes>"
      ]
     },
     "metadata": {},
     "output_type": "display_data"
    }
   ],
   "source": [
    "desemprego['Empregados no setor privado - total'].plot()"
   ]
  },
  {
   "cell_type": "code",
   "execution_count": 46,
   "metadata": {},
   "outputs": [],
   "source": [
    "from statsmodels.tsa.seasonal import seasonal_decompose\n"
   ]
  },
  {
   "cell_type": "code",
   "execution_count": null,
   "metadata": {},
   "outputs": [],
   "source": []
  }
 ],
 "metadata": {
  "kernelspec": {
   "display_name": "Python 3.10.6 64-bit",
   "language": "python",
   "name": "python3"
  },
  "language_info": {
   "codemirror_mode": {
    "name": "ipython",
    "version": 3
   },
   "file_extension": ".py",
   "mimetype": "text/x-python",
   "name": "python",
   "nbconvert_exporter": "python",
   "pygments_lexer": "ipython3",
   "version": "3.10.6"
  },
  "orig_nbformat": 4,
  "vscode": {
   "interpreter": {
    "hash": "369f2c481f4da34e4445cda3fffd2e751bd1c4d706f27375911949ba6bb62e1c"
   }
  }
 },
 "nbformat": 4,
 "nbformat_minor": 2
}
